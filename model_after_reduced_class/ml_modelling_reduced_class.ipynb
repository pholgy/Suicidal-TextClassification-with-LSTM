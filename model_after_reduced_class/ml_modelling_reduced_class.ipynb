{
  "cells": [
    {
      "cell_type": "code",
      "source": [
        "!pip install pythainlp"
      ],
      "metadata": {
        "colab": {
          "base_uri": "https://localhost:8080/"
        },
        "id": "76Flc3LcCA1k",
        "outputId": "4cbfd18c-35ee-42fa-9370-9fbb4a2f3391"
      },
      "execution_count": null,
      "outputs": [
        {
          "output_type": "stream",
          "name": "stdout",
          "text": [
            "Looking in indexes: https://pypi.org/simple, https://us-python.pkg.dev/colab-wheels/public/simple/\n",
            "Requirement already satisfied: pythainlp in /usr/local/lib/python3.8/dist-packages (3.1.1)\n",
            "Requirement already satisfied: requests>=2.22.0 in /usr/local/lib/python3.8/dist-packages (from pythainlp) (2.25.1)\n",
            "Requirement already satisfied: chardet<5,>=3.0.2 in /usr/local/lib/python3.8/dist-packages (from requests>=2.22.0->pythainlp) (4.0.0)\n",
            "Requirement already satisfied: urllib3<1.27,>=1.21.1 in /usr/local/lib/python3.8/dist-packages (from requests>=2.22.0->pythainlp) (1.24.3)\n",
            "Requirement already satisfied: certifi>=2017.4.17 in /usr/local/lib/python3.8/dist-packages (from requests>=2.22.0->pythainlp) (2022.12.7)\n",
            "Requirement already satisfied: idna<3,>=2.5 in /usr/local/lib/python3.8/dist-packages (from requests>=2.22.0->pythainlp) (2.10)\n"
          ]
        }
      ]
    },
    {
      "cell_type": "code",
      "execution_count": null,
      "metadata": {
        "id": "jlQ_9Z5cA4p-"
      },
      "outputs": [],
      "source": [
        "import pandas as pd\n",
        "import numpy as np\n",
        "\n",
        "from pythainlp import word_tokenize\n",
        "import re\n",
        "\n",
        "import tensorflow as tf\n",
        "\n",
        "from sklearn import preprocessing\n",
        "from sklearn.preprocessing import LabelEncoder\n",
        "from sklearn.model_selection import train_test_split\n",
        "\n",
        "from keras.models import Sequential\n",
        "import matplotlib.pyplot as plt\n",
        "from sklearn import metrics\n",
        "from sklearn.metrics import classification_report\n",
        "\n",
        "from sklearn.feature_extraction.text import TfidfVectorizer\n",
        "import keras\n",
        "from keras import *\n",
        "from keras.layers import *\n",
        "\n",
        "from sklearn.linear_model import LogisticRegression"
      ]
    },
    {
      "cell_type": "code",
      "execution_count": null,
      "metadata": {
        "colab": {
          "base_uri": "https://localhost:8080/",
          "height": 206
        },
        "id": "eifvCGNWA4p_",
        "outputId": "ee1866a8-a34e-4658-dfa6-a7c2824fdef6"
      },
      "outputs": [
        {
          "output_type": "execute_result",
          "data": {
            "text/plain": [
              "   Unnamed: 0         DateTime           Uid  \\\n",
              "0           0  18/5/2021 07:24  a38755f80aee   \n",
              "1           1  20/5/2021 16:06  a38755f80aee   \n",
              "2           2  16/6/2021 07:00  9b7d113b270a   \n",
              "3           3  28/5/2021 18:43  0b981040c16d   \n",
              "4           4  13/7/2021 18:06  937c5794646d   \n",
              "\n",
              "                                               Tweet Label (Specialist)  \\\n",
              "0                         ถ้าฉันตายไปจริงๆก็คงดีสินะ            Level 2   \n",
              "1  เหนื่อยเหนื่อยจนจะตายอยู่แล้วมันไมกันนะนั่งเล่...            Level 1   \n",
              "2  พยายามที่จะมีชีวิตอยู่แต่ก็เหนื่อยกับโลกนี้เหล...            Level 1   \n",
              "3                 ชีวิตก็มีอยู่แค่นี้อยากหายไปแล้วนะ            Level 1   \n",
              "4        วันวุ่นๆของวัยรุ่นกินยาเกินขนาดกรีดแขนพร้อม            Level 5   \n",
              "\n",
              "        HashTag  \n",
              "0  #โรคซึมเศร้า  \n",
              "1  #โรคซึมเศร้า  \n",
              "2  #โรคซึมเศร้า  \n",
              "3  #โรคซึมเศร้า  \n",
              "4  #โรคซึมเศร้า  "
            ],
            "text/html": [
              "\n",
              "  <div id=\"df-de2212a4-9b81-4444-a6bc-18203af34f08\">\n",
              "    <div class=\"colab-df-container\">\n",
              "      <div>\n",
              "<style scoped>\n",
              "    .dataframe tbody tr th:only-of-type {\n",
              "        vertical-align: middle;\n",
              "    }\n",
              "\n",
              "    .dataframe tbody tr th {\n",
              "        vertical-align: top;\n",
              "    }\n",
              "\n",
              "    .dataframe thead th {\n",
              "        text-align: right;\n",
              "    }\n",
              "</style>\n",
              "<table border=\"1\" class=\"dataframe\">\n",
              "  <thead>\n",
              "    <tr style=\"text-align: right;\">\n",
              "      <th></th>\n",
              "      <th>Unnamed: 0</th>\n",
              "      <th>DateTime</th>\n",
              "      <th>Uid</th>\n",
              "      <th>Tweet</th>\n",
              "      <th>Label (Specialist)</th>\n",
              "      <th>HashTag</th>\n",
              "    </tr>\n",
              "  </thead>\n",
              "  <tbody>\n",
              "    <tr>\n",
              "      <th>0</th>\n",
              "      <td>0</td>\n",
              "      <td>18/5/2021 07:24</td>\n",
              "      <td>a38755f80aee</td>\n",
              "      <td>ถ้าฉันตายไปจริงๆก็คงดีสินะ</td>\n",
              "      <td>Level 2</td>\n",
              "      <td>#โรคซึมเศร้า</td>\n",
              "    </tr>\n",
              "    <tr>\n",
              "      <th>1</th>\n",
              "      <td>1</td>\n",
              "      <td>20/5/2021 16:06</td>\n",
              "      <td>a38755f80aee</td>\n",
              "      <td>เหนื่อยเหนื่อยจนจะตายอยู่แล้วมันไมกันนะนั่งเล่...</td>\n",
              "      <td>Level 1</td>\n",
              "      <td>#โรคซึมเศร้า</td>\n",
              "    </tr>\n",
              "    <tr>\n",
              "      <th>2</th>\n",
              "      <td>2</td>\n",
              "      <td>16/6/2021 07:00</td>\n",
              "      <td>9b7d113b270a</td>\n",
              "      <td>พยายามที่จะมีชีวิตอยู่แต่ก็เหนื่อยกับโลกนี้เหล...</td>\n",
              "      <td>Level 1</td>\n",
              "      <td>#โรคซึมเศร้า</td>\n",
              "    </tr>\n",
              "    <tr>\n",
              "      <th>3</th>\n",
              "      <td>3</td>\n",
              "      <td>28/5/2021 18:43</td>\n",
              "      <td>0b981040c16d</td>\n",
              "      <td>ชีวิตก็มีอยู่แค่นี้อยากหายไปแล้วนะ</td>\n",
              "      <td>Level 1</td>\n",
              "      <td>#โรคซึมเศร้า</td>\n",
              "    </tr>\n",
              "    <tr>\n",
              "      <th>4</th>\n",
              "      <td>4</td>\n",
              "      <td>13/7/2021 18:06</td>\n",
              "      <td>937c5794646d</td>\n",
              "      <td>วันวุ่นๆของวัยรุ่นกินยาเกินขนาดกรีดแขนพร้อม</td>\n",
              "      <td>Level 5</td>\n",
              "      <td>#โรคซึมเศร้า</td>\n",
              "    </tr>\n",
              "  </tbody>\n",
              "</table>\n",
              "</div>\n",
              "      <button class=\"colab-df-convert\" onclick=\"convertToInteractive('df-de2212a4-9b81-4444-a6bc-18203af34f08')\"\n",
              "              title=\"Convert this dataframe to an interactive table.\"\n",
              "              style=\"display:none;\">\n",
              "        \n",
              "  <svg xmlns=\"http://www.w3.org/2000/svg\" height=\"24px\"viewBox=\"0 0 24 24\"\n",
              "       width=\"24px\">\n",
              "    <path d=\"M0 0h24v24H0V0z\" fill=\"none\"/>\n",
              "    <path d=\"M18.56 5.44l.94 2.06.94-2.06 2.06-.94-2.06-.94-.94-2.06-.94 2.06-2.06.94zm-11 1L8.5 8.5l.94-2.06 2.06-.94-2.06-.94L8.5 2.5l-.94 2.06-2.06.94zm10 10l.94 2.06.94-2.06 2.06-.94-2.06-.94-.94-2.06-.94 2.06-2.06.94z\"/><path d=\"M17.41 7.96l-1.37-1.37c-.4-.4-.92-.59-1.43-.59-.52 0-1.04.2-1.43.59L10.3 9.45l-7.72 7.72c-.78.78-.78 2.05 0 2.83L4 21.41c.39.39.9.59 1.41.59.51 0 1.02-.2 1.41-.59l7.78-7.78 2.81-2.81c.8-.78.8-2.07 0-2.86zM5.41 20L4 18.59l7.72-7.72 1.47 1.35L5.41 20z\"/>\n",
              "  </svg>\n",
              "      </button>\n",
              "      \n",
              "  <style>\n",
              "    .colab-df-container {\n",
              "      display:flex;\n",
              "      flex-wrap:wrap;\n",
              "      gap: 12px;\n",
              "    }\n",
              "\n",
              "    .colab-df-convert {\n",
              "      background-color: #E8F0FE;\n",
              "      border: none;\n",
              "      border-radius: 50%;\n",
              "      cursor: pointer;\n",
              "      display: none;\n",
              "      fill: #1967D2;\n",
              "      height: 32px;\n",
              "      padding: 0 0 0 0;\n",
              "      width: 32px;\n",
              "    }\n",
              "\n",
              "    .colab-df-convert:hover {\n",
              "      background-color: #E2EBFA;\n",
              "      box-shadow: 0px 1px 2px rgba(60, 64, 67, 0.3), 0px 1px 3px 1px rgba(60, 64, 67, 0.15);\n",
              "      fill: #174EA6;\n",
              "    }\n",
              "\n",
              "    [theme=dark] .colab-df-convert {\n",
              "      background-color: #3B4455;\n",
              "      fill: #D2E3FC;\n",
              "    }\n",
              "\n",
              "    [theme=dark] .colab-df-convert:hover {\n",
              "      background-color: #434B5C;\n",
              "      box-shadow: 0px 1px 3px 1px rgba(0, 0, 0, 0.15);\n",
              "      filter: drop-shadow(0px 1px 2px rgba(0, 0, 0, 0.3));\n",
              "      fill: #FFFFFF;\n",
              "    }\n",
              "  </style>\n",
              "\n",
              "      <script>\n",
              "        const buttonEl =\n",
              "          document.querySelector('#df-de2212a4-9b81-4444-a6bc-18203af34f08 button.colab-df-convert');\n",
              "        buttonEl.style.display =\n",
              "          google.colab.kernel.accessAllowed ? 'block' : 'none';\n",
              "\n",
              "        async function convertToInteractive(key) {\n",
              "          const element = document.querySelector('#df-de2212a4-9b81-4444-a6bc-18203af34f08');\n",
              "          const dataTable =\n",
              "            await google.colab.kernel.invokeFunction('convertToInteractive',\n",
              "                                                     [key], {});\n",
              "          if (!dataTable) return;\n",
              "\n",
              "          const docLinkHtml = 'Like what you see? Visit the ' +\n",
              "            '<a target=\"_blank\" href=https://colab.research.google.com/notebooks/data_table.ipynb>data table notebook</a>'\n",
              "            + ' to learn more about interactive tables.';\n",
              "          element.innerHTML = '';\n",
              "          dataTable['output_type'] = 'display_data';\n",
              "          await google.colab.output.renderOutput(dataTable, element);\n",
              "          const docLink = document.createElement('div');\n",
              "          docLink.innerHTML = docLinkHtml;\n",
              "          element.appendChild(docLink);\n",
              "        }\n",
              "      </script>\n",
              "    </div>\n",
              "  </div>\n",
              "  "
            ]
          },
          "metadata": {},
          "execution_count": 3
        }
      ],
      "source": [
        "df = pd.read_csv('main_suicidal_data.csv')\n",
        "df.head(5)"
      ]
    },
    {
      "cell_type": "code",
      "execution_count": null,
      "metadata": {
        "id": "A_BMhK7OA4p_"
      },
      "outputs": [],
      "source": [
        "df['Label_Enc'] = df['Label (Specialist)'].str.replace('Level 1','Low Level Depress')\n",
        "df['Label_Enc'] = df['Label_Enc'].str.replace('Level 2','Mid Level Depress')\n",
        "df['Label_Enc'] = df['Label_Enc'].str.replace('Level 3','Mid Level Depress')\n",
        "df['Label_Enc'] = df['Label_Enc'].str.replace('Level 4','High Level Depress')\n",
        "df['Label_Enc'] = df['Label_Enc'].str.replace('Level 5','High Level Depress')"
      ]
    },
    {
      "cell_type": "markdown",
      "metadata": {
        "id": "U9T1yxYuA4qA"
      },
      "source": [
        "# Data Prep"
      ]
    },
    {
      "cell_type": "code",
      "execution_count": null,
      "metadata": {
        "id": "z5OjKovgA4qA"
      },
      "outputs": [],
      "source": [
        "def replace_url(text):\n",
        "    URL_PATTERN = r\"\"\"(?i)\\b((?:https?:(?:/{1,3}|[a-z0-9%])|[a-z0-9.\\-]+[.](?:com|net|org|edu|gov|mil|aero|asia|biz|cat|coop|info|int|jobs|mobi|museum|name|post|pro|tel|travel|xxx|ac|ad|ae|af|ag|ai|al|am|an|ao|aq|ar|as|at|au|aw|ax|az|ba|bb|bd|be|bf|bg|bh|bi|bj|bm|bn|bo|br|bs|bt|bv|bw|by|bz|ca|cc|cd|cf|cg|ch|ci|ck|cl|cm|cn|co|cr|cs|cu|cv|cx|cy|cz|dd|de|dj|dk|dm|do|dz|ec|ee|eg|eh|er|es|et|eu|fi|fj|fk|fm|fo|fr|ga|gb|gd|ge|gf|gg|gh|gi|gl|gm|gn|gp|gq|gr|gs|gt|gu|gw|gy|hk|hm|hn|hr|ht|hu|id|ie|il|im|in|io|iq|ir|is|it|je|jm|jo|jp|ke|kg|kh|ki|km|kn|kp|kr|kw|ky|kz|la|lb|lc|li|lk|lr|ls|lt|lu|lv|ly|ma|mc|md|me|mg|mh|mk|ml|mm|mn|mo|mp|mq|mr|ms|mt|mu|mv|mw|mx|my|mz|na|nc|ne|nf|ng|ni|nl|no|np|nr|nu|nz|om|pa|pe|pf|pg|ph|pk|pl|pm|pn|pr|ps|pt|pw|py|qa|re|ro|rs|ru|rw|sa|sb|sc|sd|se|sg|sh|si|sj|Ja|sk|sl|sm|sn|so|sr|ss|st|su|sv|sx|sy|sz|tc|td|tf|tg|th|tj|tk|tl|tm|tn|to|tp|tr|tt|tv|tw|tz|ua|ug|uk|us|uy|uz|va|vc|ve|vg|vi|vn|vu|wf|ws|ye|yt|yu|za|zm|zw)/)(?:[^\\s()<>{}\n",
        "]+|[^\\s()]*?\\)|)+(?:[^\\s()]*?\\)||[^\\s`!()\n",
        "{};:'\".,<>?«»“”‘’])|(?:(?<!@)[a-z0-9]+(?:[.\\-][a-z0-9]+)*[.](?:com|net|org|edu|gov|mil|aero|asia|biz|cat|coop|info|int|jobs|mobi|museum|name|post|pro|tel|travel|xxx|ac|ad|ae|af|ag|ai|al|am|an|ao|aq|ar|as|at|au|aw|ax|az|ba|bb|bd|be|bf|bg|bh|bi|bj|bm|bn|bo|br|bs|bt|bv|bw|by|bz|ca|cc|cd|cf|cg|ch|ci|ck|cl|cm|cn|co|cr|cs|cu|cv|cx|cy|cz|dd|de|dj|dk|dm|do|dz|ec|ee|eg|eh|er|es|et|eu|fi|fj|fk|fm|fo|fr|ga|gb|gd|ge|gf|gg|gh|gi|gl|gm|gn|gp|gq|gr|gs|gt|gu|gw|gy|hk|hm|hn|hr|ht|hu|id|ie|il|im|in|io|iq|ir|is|it|je|jm|jo|jp|ke|kg|kh|ki|km|kn|kp|kr|kw|ky|kz|la|lb|lc|li|lk|lr|ls|lt|lu|lv|ly|ma|mc|md|me|mg|mh|mk|ml|mm|mn|mo|mp|mq|mr|ms|mt|mu|mv|mw|mx|my|mz|na|nc|ne|nf|ng|ni|nl|no|np|nr|nu|nz|om|pa|pe|pf|pg|ph|pk|pl|pm|pn|pr|ps|pt|pw|py|qa|re|ro|rs|ru|rw|sa|sb|sc|sd|se|sg|sh|si|sj|Ja|sk|sl|sm|sn|so|sr|ss|st|su|sv|sx|sy|sz|tc|td|tf|tg|th|tj|tk|tl|tm|tn|to|tp|tr|tt|tv|tw|tz|ua|ug|uk|us|uy|uz|va|vc|ve|vg|vi|vn|vu|wf|ws|ye|yt|yu|za|zm|zw)\\b/?(?!@)))\"\"\"\n",
        "    return re.sub(URL_PATTERN, 'xxurl', text)\n",
        "\n",
        "def replace_rep(text):\n",
        "    def _replace_rep(m):\n",
        "        c,cc = m.groups()\n",
        "        return f'{c}xxrep'\n",
        "    re_rep = re.compile(r'(\\S)(\\1{2,})')\n",
        "    return re_rep.sub(_replace_rep, text)\n",
        "\n",
        "def process_text(text):\n",
        "    res = text.lower().strip()\n",
        "    res = replace_url(res)\n",
        "    res = replace_rep(res)\n",
        "\n",
        "    res = [word for word in word_tokenize(res) if word and not re.search(pattern=r\"\\s+\", string=word)]\n",
        "    return res"
      ]
    },
    {
      "cell_type": "code",
      "source": [
        "df['Tweet'] = df['Tweet'].map(lambda x: ' '.join(process_text(x)))"
      ],
      "metadata": {
        "id": "29VSvbj3WWA7"
      },
      "execution_count": null,
      "outputs": []
    },
    {
      "cell_type": "code",
      "source": [
        "df.head(5)"
      ],
      "metadata": {
        "colab": {
          "base_uri": "https://localhost:8080/",
          "height": 206
        },
        "id": "SpP5cc6nWgoK",
        "outputId": "d04c481e-36eb-49f3-acdb-3a21d3b5dba0"
      },
      "execution_count": null,
      "outputs": [
        {
          "output_type": "execute_result",
          "data": {
            "text/plain": [
              "   Unnamed: 0         DateTime           Uid  \\\n",
              "0           0  18/5/2021 07:24  a38755f80aee   \n",
              "1           1  20/5/2021 16:06  a38755f80aee   \n",
              "2           2  16/6/2021 07:00  9b7d113b270a   \n",
              "3           3  28/5/2021 18:43  0b981040c16d   \n",
              "4           4  13/7/2021 18:06  937c5794646d   \n",
              "\n",
              "                                               Tweet Label (Specialist)  \\\n",
              "0                ถ้า ฉัน ตาย ไป จริงๆ ก็ คง ดี สิ นะ            Level 2   \n",
              "1  เหนื่อย เหนื่อย จน จะ ตาย อยู่แล้ว มัน ไม กัน ...            Level 1   \n",
              "2  พยายาม ที่จะ มีชีวิต อยู่ แต่ ก็ เหนื่อย กับ โ...            Level 1   \n",
              "3        ชีวิต ก็ มี อยู่ แค่นี้ อยาก หาย ไป แล้ว นะ            Level 1   \n",
              "4  วัน วุ่น ๆ ของ วัยรุ่น กิน ยา เกินขนาด กรีด แข...            Level 5   \n",
              "\n",
              "        HashTag           Label_Enc  \n",
              "0  #โรคซึมเศร้า   Mid Level Depress  \n",
              "1  #โรคซึมเศร้า   Low Level Depress  \n",
              "2  #โรคซึมเศร้า   Low Level Depress  \n",
              "3  #โรคซึมเศร้า   Low Level Depress  \n",
              "4  #โรคซึมเศร้า  High Level Depress  "
            ],
            "text/html": [
              "\n",
              "  <div id=\"df-5c489bb6-3737-43d4-a7a5-e21470e5f465\">\n",
              "    <div class=\"colab-df-container\">\n",
              "      <div>\n",
              "<style scoped>\n",
              "    .dataframe tbody tr th:only-of-type {\n",
              "        vertical-align: middle;\n",
              "    }\n",
              "\n",
              "    .dataframe tbody tr th {\n",
              "        vertical-align: top;\n",
              "    }\n",
              "\n",
              "    .dataframe thead th {\n",
              "        text-align: right;\n",
              "    }\n",
              "</style>\n",
              "<table border=\"1\" class=\"dataframe\">\n",
              "  <thead>\n",
              "    <tr style=\"text-align: right;\">\n",
              "      <th></th>\n",
              "      <th>Unnamed: 0</th>\n",
              "      <th>DateTime</th>\n",
              "      <th>Uid</th>\n",
              "      <th>Tweet</th>\n",
              "      <th>Label (Specialist)</th>\n",
              "      <th>HashTag</th>\n",
              "      <th>Label_Enc</th>\n",
              "    </tr>\n",
              "  </thead>\n",
              "  <tbody>\n",
              "    <tr>\n",
              "      <th>0</th>\n",
              "      <td>0</td>\n",
              "      <td>18/5/2021 07:24</td>\n",
              "      <td>a38755f80aee</td>\n",
              "      <td>ถ้า ฉัน ตาย ไป จริงๆ ก็ คง ดี สิ นะ</td>\n",
              "      <td>Level 2</td>\n",
              "      <td>#โรคซึมเศร้า</td>\n",
              "      <td>Mid Level Depress</td>\n",
              "    </tr>\n",
              "    <tr>\n",
              "      <th>1</th>\n",
              "      <td>1</td>\n",
              "      <td>20/5/2021 16:06</td>\n",
              "      <td>a38755f80aee</td>\n",
              "      <td>เหนื่อย เหนื่อย จน จะ ตาย อยู่แล้ว มัน ไม กัน ...</td>\n",
              "      <td>Level 1</td>\n",
              "      <td>#โรคซึมเศร้า</td>\n",
              "      <td>Low Level Depress</td>\n",
              "    </tr>\n",
              "    <tr>\n",
              "      <th>2</th>\n",
              "      <td>2</td>\n",
              "      <td>16/6/2021 07:00</td>\n",
              "      <td>9b7d113b270a</td>\n",
              "      <td>พยายาม ที่จะ มีชีวิต อยู่ แต่ ก็ เหนื่อย กับ โ...</td>\n",
              "      <td>Level 1</td>\n",
              "      <td>#โรคซึมเศร้า</td>\n",
              "      <td>Low Level Depress</td>\n",
              "    </tr>\n",
              "    <tr>\n",
              "      <th>3</th>\n",
              "      <td>3</td>\n",
              "      <td>28/5/2021 18:43</td>\n",
              "      <td>0b981040c16d</td>\n",
              "      <td>ชีวิต ก็ มี อยู่ แค่นี้ อยาก หาย ไป แล้ว นะ</td>\n",
              "      <td>Level 1</td>\n",
              "      <td>#โรคซึมเศร้า</td>\n",
              "      <td>Low Level Depress</td>\n",
              "    </tr>\n",
              "    <tr>\n",
              "      <th>4</th>\n",
              "      <td>4</td>\n",
              "      <td>13/7/2021 18:06</td>\n",
              "      <td>937c5794646d</td>\n",
              "      <td>วัน วุ่น ๆ ของ วัยรุ่น กิน ยา เกินขนาด กรีด แข...</td>\n",
              "      <td>Level 5</td>\n",
              "      <td>#โรคซึมเศร้า</td>\n",
              "      <td>High Level Depress</td>\n",
              "    </tr>\n",
              "  </tbody>\n",
              "</table>\n",
              "</div>\n",
              "      <button class=\"colab-df-convert\" onclick=\"convertToInteractive('df-5c489bb6-3737-43d4-a7a5-e21470e5f465')\"\n",
              "              title=\"Convert this dataframe to an interactive table.\"\n",
              "              style=\"display:none;\">\n",
              "        \n",
              "  <svg xmlns=\"http://www.w3.org/2000/svg\" height=\"24px\"viewBox=\"0 0 24 24\"\n",
              "       width=\"24px\">\n",
              "    <path d=\"M0 0h24v24H0V0z\" fill=\"none\"/>\n",
              "    <path d=\"M18.56 5.44l.94 2.06.94-2.06 2.06-.94-2.06-.94-.94-2.06-.94 2.06-2.06.94zm-11 1L8.5 8.5l.94-2.06 2.06-.94-2.06-.94L8.5 2.5l-.94 2.06-2.06.94zm10 10l.94 2.06.94-2.06 2.06-.94-2.06-.94-.94-2.06-.94 2.06-2.06.94z\"/><path d=\"M17.41 7.96l-1.37-1.37c-.4-.4-.92-.59-1.43-.59-.52 0-1.04.2-1.43.59L10.3 9.45l-7.72 7.72c-.78.78-.78 2.05 0 2.83L4 21.41c.39.39.9.59 1.41.59.51 0 1.02-.2 1.41-.59l7.78-7.78 2.81-2.81c.8-.78.8-2.07 0-2.86zM5.41 20L4 18.59l7.72-7.72 1.47 1.35L5.41 20z\"/>\n",
              "  </svg>\n",
              "      </button>\n",
              "      \n",
              "  <style>\n",
              "    .colab-df-container {\n",
              "      display:flex;\n",
              "      flex-wrap:wrap;\n",
              "      gap: 12px;\n",
              "    }\n",
              "\n",
              "    .colab-df-convert {\n",
              "      background-color: #E8F0FE;\n",
              "      border: none;\n",
              "      border-radius: 50%;\n",
              "      cursor: pointer;\n",
              "      display: none;\n",
              "      fill: #1967D2;\n",
              "      height: 32px;\n",
              "      padding: 0 0 0 0;\n",
              "      width: 32px;\n",
              "    }\n",
              "\n",
              "    .colab-df-convert:hover {\n",
              "      background-color: #E2EBFA;\n",
              "      box-shadow: 0px 1px 2px rgba(60, 64, 67, 0.3), 0px 1px 3px 1px rgba(60, 64, 67, 0.15);\n",
              "      fill: #174EA6;\n",
              "    }\n",
              "\n",
              "    [theme=dark] .colab-df-convert {\n",
              "      background-color: #3B4455;\n",
              "      fill: #D2E3FC;\n",
              "    }\n",
              "\n",
              "    [theme=dark] .colab-df-convert:hover {\n",
              "      background-color: #434B5C;\n",
              "      box-shadow: 0px 1px 3px 1px rgba(0, 0, 0, 0.15);\n",
              "      filter: drop-shadow(0px 1px 2px rgba(0, 0, 0, 0.3));\n",
              "      fill: #FFFFFF;\n",
              "    }\n",
              "  </style>\n",
              "\n",
              "      <script>\n",
              "        const buttonEl =\n",
              "          document.querySelector('#df-5c489bb6-3737-43d4-a7a5-e21470e5f465 button.colab-df-convert');\n",
              "        buttonEl.style.display =\n",
              "          google.colab.kernel.accessAllowed ? 'block' : 'none';\n",
              "\n",
              "        async function convertToInteractive(key) {\n",
              "          const element = document.querySelector('#df-5c489bb6-3737-43d4-a7a5-e21470e5f465');\n",
              "          const dataTable =\n",
              "            await google.colab.kernel.invokeFunction('convertToInteractive',\n",
              "                                                     [key], {});\n",
              "          if (!dataTable) return;\n",
              "\n",
              "          const docLinkHtml = 'Like what you see? Visit the ' +\n",
              "            '<a target=\"_blank\" href=https://colab.research.google.com/notebooks/data_table.ipynb>data table notebook</a>'\n",
              "            + ' to learn more about interactive tables.';\n",
              "          element.innerHTML = '';\n",
              "          dataTable['output_type'] = 'display_data';\n",
              "          await google.colab.output.renderOutput(dataTable, element);\n",
              "          const docLink = document.createElement('div');\n",
              "          docLink.innerHTML = docLinkHtml;\n",
              "          element.appendChild(docLink);\n",
              "        }\n",
              "      </script>\n",
              "    </div>\n",
              "  </div>\n",
              "  "
            ]
          },
          "metadata": {},
          "execution_count": 7
        }
      ]
    },
    {
      "cell_type": "code",
      "execution_count": null,
      "metadata": {
        "id": "xwRO3-9FA4qB"
      },
      "outputs": [],
      "source": [
        "ws_tfidf = TfidfVectorizer(tokenizer=word_tokenize, ngram_range=(1, 2), sublinear_tf=True)\n",
        "ws_vec = ws_tfidf.fit_transform(df['Tweet']).toarray()\n",
        "X = ws_vec"
      ]
    },
    {
      "cell_type": "code",
      "execution_count": null,
      "metadata": {
        "id": "CQEoZwgYA4qB"
      },
      "outputs": [],
      "source": [
        "conditions = [\n",
        "    (df['Label_Enc'] == 'Other'),\n",
        "    (df['Label_Enc'] == 'Low Level Depress'),\n",
        "    (df['Label_Enc'] == 'Mid Level Depress'),\n",
        "    (df['Label_Enc'] == 'High Level Depress'),\n",
        "    ]\n",
        "\n",
        "values = ['0', '1', '2', '3']\n",
        "\n",
        "df['Label_Enc'] = np.select(conditions, values)"
      ]
    },
    {
      "cell_type": "code",
      "execution_count": null,
      "metadata": {
        "colab": {
          "base_uri": "https://localhost:8080/",
          "height": 35
        },
        "id": "NuAcc2DLA4qB",
        "outputId": "bf2cb8db-a6ff-433d-9052-b5cc7cd78192"
      },
      "outputs": [
        {
          "output_type": "execute_result",
          "data": {
            "text/plain": [
              "' removed due to wrong transformation\\nle = LabelEncoder()\\nle.fit(y)\\ny = le.transform(y)\\n'"
            ],
            "application/vnd.google.colaboratory.intrinsic+json": {
              "type": "string"
            }
          },
          "metadata": {},
          "execution_count": 10
        }
      ],
      "source": [
        "y = df['Label_Enc']\n",
        "''' removed due to wrong transformation\n",
        "le = LabelEncoder()\n",
        "le.fit(y)\n",
        "y = le.transform(y)\n",
        "'''"
      ]
    },
    {
      "cell_type": "markdown",
      "metadata": {
        "id": "hFXjYXikA4qC"
      },
      "source": [
        "# Train Test Split"
      ]
    },
    {
      "cell_type": "code",
      "execution_count": null,
      "metadata": {
        "id": "htab1glIA4qC"
      },
      "outputs": [],
      "source": [
        "X_train, X_test, y_train, y_test = train_test_split(X, y, test_size=0.1)"
      ]
    },
    {
      "cell_type": "markdown",
      "metadata": {
        "id": "o5g4dK7NA4qC"
      },
      "source": [
        "# Logistic Reg"
      ]
    },
    {
      "cell_type": "code",
      "execution_count": null,
      "metadata": {
        "colab": {
          "base_uri": "https://localhost:8080/"
        },
        "id": "EnHixIeuA4qC",
        "outputId": "1fc83de6-cc8c-4923-d4b4-78d8ab831c9d"
      },
      "outputs": [
        {
          "output_type": "execute_result",
          "data": {
            "text/plain": [
              "LogisticRegression(C=1, max_iter=10000)"
            ]
          },
          "metadata": {},
          "execution_count": 12
        }
      ],
      "source": [
        "model = LogisticRegression(max_iter=10000,penalty='l2',C=1)\n",
        "model.fit(X_train,y_train)"
      ]
    },
    {
      "cell_type": "code",
      "execution_count": null,
      "metadata": {
        "colab": {
          "base_uri": "https://localhost:8080/"
        },
        "id": "MGIkRB2OA4qC",
        "outputId": "6256b41e-7c50-4b28-c8e0-b828c169b187"
      },
      "outputs": [
        {
          "output_type": "stream",
          "name": "stdout",
          "text": [
            "              precision    recall  f1-score   support\n",
            "\n",
            "           0       0.79      0.36      0.49        61\n",
            "           1       0.74      0.94      0.83       271\n",
            "           2       0.67      0.39      0.50        76\n",
            "           3       0.79      0.73      0.75       106\n",
            "\n",
            "    accuracy                           0.75       514\n",
            "   macro avg       0.75      0.61      0.64       514\n",
            "weighted avg       0.75      0.75      0.73       514\n",
            "\n"
          ]
        }
      ],
      "source": [
        "y_pred = model.predict(X_test)\n",
        "y_true = np.array(y_test)\n",
        "print(classification_report(y_true, y_pred))"
      ]
    },
    {
      "cell_type": "markdown",
      "metadata": {
        "id": "VEUvxuwMA4qC"
      },
      "source": [
        "# Random Forest Classifier"
      ]
    },
    {
      "cell_type": "code",
      "execution_count": null,
      "metadata": {
        "id": "3zanFuCYA4qC"
      },
      "outputs": [],
      "source": [
        "from sklearn.ensemble import RandomForestClassifier\n",
        "\n",
        "clf = RandomForestClassifier() \n",
        "clf.fit(X_train, y_train)\n",
        "y_pred_rf_not_tuning = clf.predict(X_test)"
      ]
    },
    {
      "cell_type": "code",
      "execution_count": null,
      "metadata": {
        "colab": {
          "base_uri": "https://localhost:8080/"
        },
        "id": "osDfK1czA4qC",
        "outputId": "1d639d32-182e-4f16-db10-c8252a750f83"
      },
      "outputs": [
        {
          "output_type": "stream",
          "name": "stdout",
          "text": [
            "              precision    recall  f1-score   support\n",
            "\n",
            "           0       0.74      0.38      0.50        61\n",
            "           1       0.74      0.93      0.83       271\n",
            "           2       0.52      0.34      0.41        76\n",
            "           3       0.70      0.62      0.66       106\n",
            "\n",
            "    accuracy                           0.71       514\n",
            "   macro avg       0.68      0.57      0.60       514\n",
            "weighted avg       0.70      0.71      0.69       514\n",
            "\n"
          ]
        }
      ],
      "source": [
        "print(classification_report(y_test, y_pred_rf_not_tuning))"
      ]
    },
    {
      "cell_type": "markdown",
      "metadata": {
        "id": "qCAqXSt7A4qD"
      },
      "source": [
        "# SGD Classifier\n",
        "some user think that SGD is a classifier. But no, that's a linear classifier optimized by the SGD.\n",
        "---\n",
        "\n"
      ]
    },
    {
      "cell_type": "code",
      "execution_count": null,
      "metadata": {
        "id": "13PXGzCaA4qD"
      },
      "outputs": [],
      "source": [
        "from sklearn.linear_model import SGDClassifier"
      ]
    },
    {
      "cell_type": "code",
      "execution_count": null,
      "metadata": {
        "colab": {
          "base_uri": "https://localhost:8080/"
        },
        "id": "-N42FwZpA4qD",
        "outputId": "75f4c6e3-f43a-4c07-87e6-c013a29de131"
      },
      "outputs": [
        {
          "output_type": "stream",
          "name": "stdout",
          "text": [
            "              precision    recall  f1-score   support\n",
            "\n",
            "           0       0.70      0.46      0.55        61\n",
            "           1       0.78      0.91      0.84       271\n",
            "           2       0.54      0.42      0.47        76\n",
            "           3       0.81      0.75      0.78       106\n",
            "\n",
            "    accuracy                           0.75       514\n",
            "   macro avg       0.71      0.64      0.66       514\n",
            "weighted avg       0.74      0.75      0.74       514\n",
            "\n"
          ]
        }
      ],
      "source": [
        "SGDclf = SGDClassifier(loss='hinge',penalty='l2') # Linear SVM from TUNING PARAM\n",
        "SGDclf.fit(X_train,y_train)\n",
        "\n",
        "SGDclf_pred = SGDclf.predict(X_test)\n",
        "print(classification_report(y_true, SGDclf_pred))"
      ]
    },
    {
      "cell_type": "markdown",
      "source": [
        "# NAIVE BAYES"
      ],
      "metadata": {
        "id": "XDkcw2L0q0Tg"
      }
    },
    {
      "cell_type": "code",
      "source": [
        "from sklearn.naive_bayes import MultinomialNB\n",
        "Naive_clf = MultinomialNB()\n",
        "Naive_clf.fit(X_train, y_train)\n",
        "Naive_pred = Naive_clf.predict(X_test)\n",
        "print(classification_report(y_true, Naive_pred))"
      ],
      "metadata": {
        "colab": {
          "base_uri": "https://localhost:8080/"
        },
        "id": "YFmFdNCJnz3R",
        "outputId": "274ce690-2274-46d0-fe47-3b7d0758e182"
      },
      "execution_count": null,
      "outputs": [
        {
          "output_type": "stream",
          "name": "stdout",
          "text": [
            "              precision    recall  f1-score   support\n",
            "\n",
            "           0       1.00      0.02      0.03        61\n",
            "           1       0.62      1.00      0.76       271\n",
            "           2       0.80      0.11      0.19        76\n",
            "           3       0.89      0.54      0.67       106\n",
            "\n",
            "    accuracy                           0.65       514\n",
            "   macro avg       0.83      0.41      0.41       514\n",
            "weighted avg       0.74      0.65      0.57       514\n",
            "\n"
          ]
        }
      ]
    },
    {
      "cell_type": "markdown",
      "source": [
        "# Creating Custom Prediction Function"
      ],
      "metadata": {
        "id": "f7r4OhtdtXB7"
      }
    },
    {
      "cell_type": "code",
      "source": [
        "def custom_pred(input_string: str) -> pd.DataFrame:\n",
        "    rows = input_string.strip().split('\\n')\n",
        "    if len(rows) <= 20:\n",
        "      print(\"รบกวนช่วยพิมพ์มากกว่านี้หน่อยได้ไหม...\")\n",
        "    elif len(rows) >= 50:\n",
        "      df = pd.DataFrame(rows)\n",
        "      df.iloc[:,0] = df.iloc[:,0].map(lambda x: ' '.join(process_text(x)))\n",
        "      custom_text_input = ws_tfidf.transform(df.iloc[:,0]).toarray()\n",
        "\n",
        "      predict_values = model.predict(custom_text_input)\n",
        "    \n",
        "      return predict_values\n",
        "    # reverse encoder\n",
        "    "
      ],
      "metadata": {
        "id": "yqHfizm8x5u8"
      },
      "execution_count": null,
      "outputs": []
    },
    {
      "cell_type": "code",
      "source": [
        "custom_pred('ควยโก้')"
      ],
      "metadata": {
        "colab": {
          "base_uri": "https://localhost:8080/"
        },
        "id": "wsJ7FqAuvTNe",
        "outputId": "e4e96d49-1c74-4608-cd88-dc0bd6997fff"
      },
      "execution_count": null,
      "outputs": [
        {
          "output_type": "stream",
          "name": "stdout",
          "text": [
            "รบกวนช่วยพิมพ์มากกว่านี้หน่อยได้ไหม...\n"
          ]
        }
      ]
    },
    {
      "cell_type": "code",
      "source": [],
      "metadata": {
        "id": "9aR7kcJHO0me"
      },
      "execution_count": null,
      "outputs": []
    }
  ],
  "metadata": {
    "kernelspec": {
      "display_name": "mlp",
      "language": "python",
      "name": "python3"
    },
    "language_info": {
      "codemirror_mode": {
        "name": "ipython",
        "version": 3
      },
      "file_extension": ".py",
      "mimetype": "text/x-python",
      "name": "python",
      "nbconvert_exporter": "python",
      "pygments_lexer": "ipython3",
      "version": "3.9.10 | packaged by conda-forge | (main, Feb  1 2022, 21:25:34) \n[Clang 11.1.0 ]"
    },
    "orig_nbformat": 4,
    "vscode": {
      "interpreter": {
        "hash": "312e11345a26bb658cc76d44d3920b107a1290315a78b9f69927adb21ad3c257"
      }
    },
    "colab": {
      "provenance": []
    }
  },
  "nbformat": 4,
  "nbformat_minor": 0
}