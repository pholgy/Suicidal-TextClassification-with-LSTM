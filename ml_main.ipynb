{
  "cells": [
    {
      "cell_type": "code",
      "execution_count": 1,
      "metadata": {
        "id": "jlQ_9Z5cA4p-"
      },
      "outputs": [],
      "source": [
        "import pandas as pd\n",
        "import numpy as np\n",
        "\n",
        "from pythainlp import word_tokenize\n",
        "import re\n",
        "\n",
        "import tensorflow as tf\n",
        "\n",
        "from sklearn import preprocessing\n",
        "from sklearn.preprocessing import LabelEncoder\n",
        "from sklearn.model_selection import train_test_split\n",
        "\n",
        "from keras.models import Sequential\n",
        "import matplotlib.pyplot as plt\n",
        "from sklearn import metrics\n",
        "from sklearn.metrics import classification_report\n",
        "from imblearn.over_sampling import SMOTE\n",
        "\n",
        "from sklearn.feature_extraction.text import TfidfVectorizer\n",
        "import keras\n",
        "from keras import *\n",
        "from keras.layers import *\n",
        "\n",
        "from pythainlp.corpus import thai_stopwords\n",
        "\n",
        "\n",
        "from sklearn.linear_model import LogisticRegression"
      ]
    },
    {
      "cell_type": "code",
      "execution_count": 2,
      "metadata": {},
      "outputs": [],
      "source": [
        "thai_stop_words = thai_stopwords()"
      ]
    },
    {
      "cell_type": "code",
      "execution_count": 3,
      "metadata": {
        "colab": {
          "base_uri": "https://localhost:8080/",
          "height": 206
        },
        "id": "eifvCGNWA4p_",
        "outputId": "ee1866a8-a34e-4658-dfa6-a7c2824fdef6"
      },
      "outputs": [
        {
          "data": {
            "text/html": [
              "<div>\n",
              "<style scoped>\n",
              "    .dataframe tbody tr th:only-of-type {\n",
              "        vertical-align: middle;\n",
              "    }\n",
              "\n",
              "    .dataframe tbody tr th {\n",
              "        vertical-align: top;\n",
              "    }\n",
              "\n",
              "    .dataframe thead th {\n",
              "        text-align: right;\n",
              "    }\n",
              "</style>\n",
              "<table border=\"1\" class=\"dataframe\">\n",
              "  <thead>\n",
              "    <tr style=\"text-align: right;\">\n",
              "      <th></th>\n",
              "      <th>Unnamed: 0</th>\n",
              "      <th>DateTime</th>\n",
              "      <th>Uid</th>\n",
              "      <th>Tweet</th>\n",
              "      <th>Label (Specialist)</th>\n",
              "      <th>HashTag</th>\n",
              "    </tr>\n",
              "  </thead>\n",
              "  <tbody>\n",
              "    <tr>\n",
              "      <th>0</th>\n",
              "      <td>0</td>\n",
              "      <td>18/5/2021 07:24</td>\n",
              "      <td>a38755f80aee</td>\n",
              "      <td>ถ้าฉันตายไปจริงๆก็คงดีสินะ</td>\n",
              "      <td>Level 2</td>\n",
              "      <td>#โรคซึมเศร้า</td>\n",
              "    </tr>\n",
              "    <tr>\n",
              "      <th>1</th>\n",
              "      <td>1</td>\n",
              "      <td>20/5/2021 16:06</td>\n",
              "      <td>a38755f80aee</td>\n",
              "      <td>เหนื่อยเหนื่อยจนจะตายอยู่แล้วมันไมกันนะนั่งเล่...</td>\n",
              "      <td>Level 1</td>\n",
              "      <td>#โรคซึมเศร้า</td>\n",
              "    </tr>\n",
              "    <tr>\n",
              "      <th>2</th>\n",
              "      <td>2</td>\n",
              "      <td>16/6/2021 07:00</td>\n",
              "      <td>9b7d113b270a</td>\n",
              "      <td>พยายามที่จะมีชีวิตอยู่แต่ก็เหนื่อยกับโลกนี้เหล...</td>\n",
              "      <td>Level 1</td>\n",
              "      <td>#โรคซึมเศร้า</td>\n",
              "    </tr>\n",
              "    <tr>\n",
              "      <th>3</th>\n",
              "      <td>3</td>\n",
              "      <td>28/5/2021 18:43</td>\n",
              "      <td>0b981040c16d</td>\n",
              "      <td>ชีวิตก็มีอยู่แค่นี้อยากหายไปแล้วนะ</td>\n",
              "      <td>Level 1</td>\n",
              "      <td>#โรคซึมเศร้า</td>\n",
              "    </tr>\n",
              "    <tr>\n",
              "      <th>4</th>\n",
              "      <td>4</td>\n",
              "      <td>13/7/2021 18:06</td>\n",
              "      <td>937c5794646d</td>\n",
              "      <td>วันวุ่นๆของวัยรุ่นกินยาเกินขนาดกรีดแขนพร้อม</td>\n",
              "      <td>Level 5</td>\n",
              "      <td>#โรคซึมเศร้า</td>\n",
              "    </tr>\n",
              "  </tbody>\n",
              "</table>\n",
              "</div>"
            ],
            "text/plain": [
              "   Unnamed: 0         DateTime           Uid  \\\n",
              "0           0  18/5/2021 07:24  a38755f80aee   \n",
              "1           1  20/5/2021 16:06  a38755f80aee   \n",
              "2           2  16/6/2021 07:00  9b7d113b270a   \n",
              "3           3  28/5/2021 18:43  0b981040c16d   \n",
              "4           4  13/7/2021 18:06  937c5794646d   \n",
              "\n",
              "                                               Tweet Label (Specialist)  \\\n",
              "0                         ถ้าฉันตายไปจริงๆก็คงดีสินะ            Level 2   \n",
              "1  เหนื่อยเหนื่อยจนจะตายอยู่แล้วมันไมกันนะนั่งเล่...            Level 1   \n",
              "2  พยายามที่จะมีชีวิตอยู่แต่ก็เหนื่อยกับโลกนี้เหล...            Level 1   \n",
              "3                 ชีวิตก็มีอยู่แค่นี้อยากหายไปแล้วนะ            Level 1   \n",
              "4        วันวุ่นๆของวัยรุ่นกินยาเกินขนาดกรีดแขนพร้อม            Level 5   \n",
              "\n",
              "        HashTag  \n",
              "0  #โรคซึมเศร้า  \n",
              "1  #โรคซึมเศร้า  \n",
              "2  #โรคซึมเศร้า  \n",
              "3  #โรคซึมเศร้า  \n",
              "4  #โรคซึมเศร้า  "
            ]
          },
          "execution_count": 3,
          "metadata": {},
          "output_type": "execute_result"
        }
      ],
      "source": [
        "df = pd.read_csv('main_suicidal_data.csv')\n",
        "df.head(5)"
      ]
    },
    {
      "cell_type": "code",
      "execution_count": 4,
      "metadata": {
        "id": "A_BMhK7OA4p_"
      },
      "outputs": [],
      "source": [
        "df['Label_Enc'] = df['Label (Specialist)'].str.replace('Level 1','Low Level Depress')\n",
        "df['Label_Enc'] = df['Label_Enc'].str.replace('Level 2','Mid Level Depress')\n",
        "df['Label_Enc'] = df['Label_Enc'].str.replace('Level 3','Mid Level Depress')\n",
        "df['Label_Enc'] = df['Label_Enc'].str.replace('Level 4','High Level Depress')\n",
        "df['Label_Enc'] = df['Label_Enc'].str.replace('Level 5','High Level Depress')"
      ]
    },
    {
      "cell_type": "markdown",
      "metadata": {
        "id": "U9T1yxYuA4qA"
      },
      "source": [
        "# Data Prep"
      ]
    },
    {
      "cell_type": "code",
      "execution_count": 5,
      "metadata": {
        "id": "z5OjKovgA4qA"
      },
      "outputs": [],
      "source": [
        "def replace_url(text):\n",
        "    URL_PATTERN = r\"\"\"(?i)\\b((?:https?:(?:/{1,3}|[a-z0-9%])|[a-z0-9.\\-]+[.](?:com|net|org|edu|gov|mil|aero|asia|biz|cat|coop|info|int|jobs|mobi|museum|name|post|pro|tel|travel|xxx|ac|ad|ae|af|ag|ai|al|am|an|ao|aq|ar|as|at|au|aw|ax|az|ba|bb|bd|be|bf|bg|bh|bi|bj|bm|bn|bo|br|bs|bt|bv|bw|by|bz|ca|cc|cd|cf|cg|ch|ci|ck|cl|cm|cn|co|cr|cs|cu|cv|cx|cy|cz|dd|de|dj|dk|dm|do|dz|ec|ee|eg|eh|er|es|et|eu|fi|fj|fk|fm|fo|fr|ga|gb|gd|ge|gf|gg|gh|gi|gl|gm|gn|gp|gq|gr|gs|gt|gu|gw|gy|hk|hm|hn|hr|ht|hu|id|ie|il|im|in|io|iq|ir|is|it|je|jm|jo|jp|ke|kg|kh|ki|km|kn|kp|kr|kw|ky|kz|la|lb|lc|li|lk|lr|ls|lt|lu|lv|ly|ma|mc|md|me|mg|mh|mk|ml|mm|mn|mo|mp|mq|mr|ms|mt|mu|mv|mw|mx|my|mz|na|nc|ne|nf|ng|ni|nl|no|np|nr|nu|nz|om|pa|pe|pf|pg|ph|pk|pl|pm|pn|pr|ps|pt|pw|py|qa|re|ro|rs|ru|rw|sa|sb|sc|sd|se|sg|sh|si|sj|Ja|sk|sl|sm|sn|so|sr|ss|st|su|sv|sx|sy|sz|tc|td|tf|tg|th|tj|tk|tl|tm|tn|to|tp|tr|tt|tv|tw|tz|ua|ug|uk|us|uy|uz|va|vc|ve|vg|vi|vn|vu|wf|ws|ye|yt|yu|za|zm|zw)/)(?:[^\\s()<>{}\n",
        "]+|[^\\s()]*?\\)|)+(?:[^\\s()]*?\\)||[^\\s`!()\n",
        "{};:'\".,<>?«»“”‘’])|(?:(?<!@)[a-z0-9]+(?:[.\\-][a-z0-9]+)*[.](?:com|net|org|edu|gov|mil|aero|asia|biz|cat|coop|info|int|jobs|mobi|museum|name|post|pro|tel|travel|xxx|ac|ad|ae|af|ag|ai|al|am|an|ao|aq|ar|as|at|au|aw|ax|az|ba|bb|bd|be|bf|bg|bh|bi|bj|bm|bn|bo|br|bs|bt|bv|bw|by|bz|ca|cc|cd|cf|cg|ch|ci|ck|cl|cm|cn|co|cr|cs|cu|cv|cx|cy|cz|dd|de|dj|dk|dm|do|dz|ec|ee|eg|eh|er|es|et|eu|fi|fj|fk|fm|fo|fr|ga|gb|gd|ge|gf|gg|gh|gi|gl|gm|gn|gp|gq|gr|gs|gt|gu|gw|gy|hk|hm|hn|hr|ht|hu|id|ie|il|im|in|io|iq|ir|is|it|je|jm|jo|jp|ke|kg|kh|ki|km|kn|kp|kr|kw|ky|kz|la|lb|lc|li|lk|lr|ls|lt|lu|lv|ly|ma|mc|md|me|mg|mh|mk|ml|mm|mn|mo|mp|mq|mr|ms|mt|mu|mv|mw|mx|my|mz|na|nc|ne|nf|ng|ni|nl|no|np|nr|nu|nz|om|pa|pe|pf|pg|ph|pk|pl|pm|pn|pr|ps|pt|pw|py|qa|re|ro|rs|ru|rw|sa|sb|sc|sd|se|sg|sh|si|sj|Ja|sk|sl|sm|sn|so|sr|ss|st|su|sv|sx|sy|sz|tc|td|tf|tg|th|tj|tk|tl|tm|tn|to|tp|tr|tt|tv|tw|tz|ua|ug|uk|us|uy|uz|va|vc|ve|vg|vi|vn|vu|wf|ws|ye|yt|yu|za|zm|zw)\\b/?(?!@)))\"\"\"\n",
        "    return re.sub(URL_PATTERN, 'xxurl', text)\n",
        "\n",
        "def replace_rep(text):\n",
        "    def _replace_rep(m):\n",
        "        c,cc = m.groups()\n",
        "        return f'{c}xxrep'\n",
        "    re_rep = re.compile(r'(\\S)(\\1{2,})')\n",
        "    return re_rep.sub(_replace_rep, text)\n",
        "\n",
        "def process_text(text):\n",
        "    res = text.lower().strip()\n",
        "    res = replace_url(res)\n",
        "    res = replace_rep(res)\n",
        "\n",
        "    res = [word for word in word_tokenize(res) if word and not re.search(pattern=r\"\\s+\", string=word)]\n",
        "    return res"
      ]
    },
    {
      "cell_type": "code",
      "execution_count": 6,
      "metadata": {
        "id": "29VSvbj3WWA7"
      },
      "outputs": [],
      "source": [
        "df['Tweet'] = df['Tweet'].map(lambda x: ' '.join(process_text(x)))"
      ]
    },
    {
      "cell_type": "code",
      "execution_count": 7,
      "metadata": {
        "colab": {
          "base_uri": "https://localhost:8080/",
          "height": 206
        },
        "id": "SpP5cc6nWgoK",
        "outputId": "d04c481e-36eb-49f3-acdb-3a21d3b5dba0"
      },
      "outputs": [
        {
          "data": {
            "text/html": [
              "<div>\n",
              "<style scoped>\n",
              "    .dataframe tbody tr th:only-of-type {\n",
              "        vertical-align: middle;\n",
              "    }\n",
              "\n",
              "    .dataframe tbody tr th {\n",
              "        vertical-align: top;\n",
              "    }\n",
              "\n",
              "    .dataframe thead th {\n",
              "        text-align: right;\n",
              "    }\n",
              "</style>\n",
              "<table border=\"1\" class=\"dataframe\">\n",
              "  <thead>\n",
              "    <tr style=\"text-align: right;\">\n",
              "      <th></th>\n",
              "      <th>Unnamed: 0</th>\n",
              "      <th>DateTime</th>\n",
              "      <th>Uid</th>\n",
              "      <th>Tweet</th>\n",
              "      <th>Label (Specialist)</th>\n",
              "      <th>HashTag</th>\n",
              "      <th>Label_Enc</th>\n",
              "    </tr>\n",
              "  </thead>\n",
              "  <tbody>\n",
              "    <tr>\n",
              "      <th>0</th>\n",
              "      <td>0</td>\n",
              "      <td>18/5/2021 07:24</td>\n",
              "      <td>a38755f80aee</td>\n",
              "      <td>ถ้า ฉัน ตาย ไป จริงๆ ก็ คง ดี สิ นะ</td>\n",
              "      <td>Level 2</td>\n",
              "      <td>#โรคซึมเศร้า</td>\n",
              "      <td>Mid Level Depress</td>\n",
              "    </tr>\n",
              "    <tr>\n",
              "      <th>1</th>\n",
              "      <td>1</td>\n",
              "      <td>20/5/2021 16:06</td>\n",
              "      <td>a38755f80aee</td>\n",
              "      <td>เหนื่อย เหนื่อย จน จะ ตาย อยู่แล้ว มัน ไม กัน ...</td>\n",
              "      <td>Level 1</td>\n",
              "      <td>#โรคซึมเศร้า</td>\n",
              "      <td>Low Level Depress</td>\n",
              "    </tr>\n",
              "    <tr>\n",
              "      <th>2</th>\n",
              "      <td>2</td>\n",
              "      <td>16/6/2021 07:00</td>\n",
              "      <td>9b7d113b270a</td>\n",
              "      <td>พยายาม ที่จะ มีชีวิต อยู่ แต่ ก็ เหนื่อย กับ โ...</td>\n",
              "      <td>Level 1</td>\n",
              "      <td>#โรคซึมเศร้า</td>\n",
              "      <td>Low Level Depress</td>\n",
              "    </tr>\n",
              "    <tr>\n",
              "      <th>3</th>\n",
              "      <td>3</td>\n",
              "      <td>28/5/2021 18:43</td>\n",
              "      <td>0b981040c16d</td>\n",
              "      <td>ชีวิต ก็ มี อยู่ แค่นี้ อยาก หาย ไป แล้ว นะ</td>\n",
              "      <td>Level 1</td>\n",
              "      <td>#โรคซึมเศร้า</td>\n",
              "      <td>Low Level Depress</td>\n",
              "    </tr>\n",
              "    <tr>\n",
              "      <th>4</th>\n",
              "      <td>4</td>\n",
              "      <td>13/7/2021 18:06</td>\n",
              "      <td>937c5794646d</td>\n",
              "      <td>วัน วุ่น ๆ ของ วัยรุ่น กิน ยา เกินขนาด กรีด แข...</td>\n",
              "      <td>Level 5</td>\n",
              "      <td>#โรคซึมเศร้า</td>\n",
              "      <td>High Level Depress</td>\n",
              "    </tr>\n",
              "  </tbody>\n",
              "</table>\n",
              "</div>"
            ],
            "text/plain": [
              "   Unnamed: 0         DateTime           Uid  \\\n",
              "0           0  18/5/2021 07:24  a38755f80aee   \n",
              "1           1  20/5/2021 16:06  a38755f80aee   \n",
              "2           2  16/6/2021 07:00  9b7d113b270a   \n",
              "3           3  28/5/2021 18:43  0b981040c16d   \n",
              "4           4  13/7/2021 18:06  937c5794646d   \n",
              "\n",
              "                                               Tweet Label (Specialist)  \\\n",
              "0                ถ้า ฉัน ตาย ไป จริงๆ ก็ คง ดี สิ นะ            Level 2   \n",
              "1  เหนื่อย เหนื่อย จน จะ ตาย อยู่แล้ว มัน ไม กัน ...            Level 1   \n",
              "2  พยายาม ที่จะ มีชีวิต อยู่ แต่ ก็ เหนื่อย กับ โ...            Level 1   \n",
              "3        ชีวิต ก็ มี อยู่ แค่นี้ อยาก หาย ไป แล้ว นะ            Level 1   \n",
              "4  วัน วุ่น ๆ ของ วัยรุ่น กิน ยา เกินขนาด กรีด แข...            Level 5   \n",
              "\n",
              "        HashTag           Label_Enc  \n",
              "0  #โรคซึมเศร้า   Mid Level Depress  \n",
              "1  #โรคซึมเศร้า   Low Level Depress  \n",
              "2  #โรคซึมเศร้า   Low Level Depress  \n",
              "3  #โรคซึมเศร้า   Low Level Depress  \n",
              "4  #โรคซึมเศร้า  High Level Depress  "
            ]
          },
          "execution_count": 7,
          "metadata": {},
          "output_type": "execute_result"
        }
      ],
      "source": [
        "df.head(5)"
      ]
    },
    {
      "cell_type": "code",
      "execution_count": 8,
      "metadata": {
        "id": "xwRO3-9FA4qB"
      },
      "outputs": [
        {
          "name": "stderr",
          "output_type": "stream",
          "text": [
            "/Users/yo/miniforge3/envs/mlp/lib/python3.9/site-packages/sklearn/feature_extraction/text.py:404: UserWarning: Your stop_words may be inconsistent with your preprocessing. Tokenizing the stop words generated tokens ['กระไร', 'กาลนาน', 'ชิ้น', 'ดังที่', 'ดี', 'ดีกว่า', 'ด้อย', 'ตัว', 'ต่อไป', 'ถัดไป', 'ทั่วถึง', 'ทำ', 'ที่จะ', 'ท่าน', 'ท้าย', 'นา', 'บอ', 'บัด', 'ระยะเวลา', 'ล่ะ', 'วันวาน', 'สม', 'สมบูรณ์', 'สํา', 'หน้า', 'หรับ', 'หา', 'อย', 'เกี่ยว', 'เก่า', 'เดี๋ยวนี้', 'เย็น', 'เล่า', 'เสมือน', 'เหมือนกัน', 'แด่', 'แม้น', 'แหล่', 'โง้น', 'โน้น', 'ใด', 'ไว', 'ไหม'] not in stop_words.\n",
            "  warnings.warn(\n"
          ]
        }
      ],
      "source": [
        "ws_tfidf = TfidfVectorizer(tokenizer=word_tokenize, ngram_range=(1, 2), sublinear_tf=True, stop_words=thai_stop_words)\n",
        "ws_vec = ws_tfidf.fit_transform(df['Tweet']).toarray()\n",
        "X = ws_vec"
      ]
    },
    {
      "cell_type": "code",
      "execution_count": 9,
      "metadata": {
        "id": "CQEoZwgYA4qB"
      },
      "outputs": [],
      "source": [
        "conditions = [\n",
        "    (df['Label_Enc'] == 'Other'),\n",
        "    (df['Label_Enc'] == 'Low Level Depress'),\n",
        "    (df['Label_Enc'] == 'Mid Level Depress'),\n",
        "    (df['Label_Enc'] == 'High Level Depress'),\n",
        "    ]\n",
        "\n",
        "values = ['0', '1', '2', '3']\n",
        "\n",
        "df['Label_Enc'] = np.select(conditions, values)"
      ]
    },
    {
      "cell_type": "code",
      "execution_count": 10,
      "metadata": {
        "colab": {
          "base_uri": "https://localhost:8080/",
          "height": 35
        },
        "id": "NuAcc2DLA4qB",
        "outputId": "bf2cb8db-a6ff-433d-9052-b5cc7cd78192"
      },
      "outputs": [
        {
          "data": {
            "text/plain": [
              "' removed due to wrong transformation\\nle = LabelEncoder()\\nle.fit(y)\\ny = le.transform(y)\\n'"
            ]
          },
          "execution_count": 10,
          "metadata": {},
          "output_type": "execute_result"
        }
      ],
      "source": [
        "y = df['Label_Enc']\n",
        "''' removed due to wrong transformation\n",
        "le = LabelEncoder()\n",
        "le.fit(y)\n",
        "y = le.transform(y)\n",
        "'''"
      ]
    },
    {
      "cell_type": "markdown",
      "metadata": {
        "id": "hFXjYXikA4qC"
      },
      "source": [
        "# Train Test Split"
      ]
    },
    {
      "cell_type": "code",
      "execution_count": 11,
      "metadata": {
        "id": "htab1glIA4qC"
      },
      "outputs": [],
      "source": [
        "sm = SMOTE(random_state=42)\n",
        "X_resampled, y_resampled = sm.fit_resample(X, y)\n",
        "    \n",
        "X_train, X_test, y_train, y_test = train_test_split(X, y, test_size=0.2)\n"
      ]
    },
    {
      "cell_type": "markdown",
      "metadata": {
        "id": "o5g4dK7NA4qC"
      },
      "source": [
        "# Logistic Reg"
      ]
    },
    {
      "cell_type": "code",
      "execution_count": 12,
      "metadata": {
        "colab": {
          "base_uri": "https://localhost:8080/"
        },
        "id": "EnHixIeuA4qC",
        "outputId": "1fc83de6-cc8c-4923-d4b4-78d8ab831c9d"
      },
      "outputs": [
        {
          "data": {
            "text/html": [
              "<style>#sk-container-id-1 {color: black;background-color: white;}#sk-container-id-1 pre{padding: 0;}#sk-container-id-1 div.sk-toggleable {background-color: white;}#sk-container-id-1 label.sk-toggleable__label {cursor: pointer;display: block;width: 100%;margin-bottom: 0;padding: 0.3em;box-sizing: border-box;text-align: center;}#sk-container-id-1 label.sk-toggleable__label-arrow:before {content: \"▸\";float: left;margin-right: 0.25em;color: #696969;}#sk-container-id-1 label.sk-toggleable__label-arrow:hover:before {color: black;}#sk-container-id-1 div.sk-estimator:hover label.sk-toggleable__label-arrow:before {color: black;}#sk-container-id-1 div.sk-toggleable__content {max-height: 0;max-width: 0;overflow: hidden;text-align: left;background-color: #f0f8ff;}#sk-container-id-1 div.sk-toggleable__content pre {margin: 0.2em;color: black;border-radius: 0.25em;background-color: #f0f8ff;}#sk-container-id-1 input.sk-toggleable__control:checked~div.sk-toggleable__content {max-height: 200px;max-width: 100%;overflow: auto;}#sk-container-id-1 input.sk-toggleable__control:checked~label.sk-toggleable__label-arrow:before {content: \"▾\";}#sk-container-id-1 div.sk-estimator input.sk-toggleable__control:checked~label.sk-toggleable__label {background-color: #d4ebff;}#sk-container-id-1 div.sk-label input.sk-toggleable__control:checked~label.sk-toggleable__label {background-color: #d4ebff;}#sk-container-id-1 input.sk-hidden--visually {border: 0;clip: rect(1px 1px 1px 1px);clip: rect(1px, 1px, 1px, 1px);height: 1px;margin: -1px;overflow: hidden;padding: 0;position: absolute;width: 1px;}#sk-container-id-1 div.sk-estimator {font-family: monospace;background-color: #f0f8ff;border: 1px dotted black;border-radius: 0.25em;box-sizing: border-box;margin-bottom: 0.5em;}#sk-container-id-1 div.sk-estimator:hover {background-color: #d4ebff;}#sk-container-id-1 div.sk-parallel-item::after {content: \"\";width: 100%;border-bottom: 1px solid gray;flex-grow: 1;}#sk-container-id-1 div.sk-label:hover label.sk-toggleable__label {background-color: #d4ebff;}#sk-container-id-1 div.sk-serial::before {content: \"\";position: absolute;border-left: 1px solid gray;box-sizing: border-box;top: 0;bottom: 0;left: 50%;z-index: 0;}#sk-container-id-1 div.sk-serial {display: flex;flex-direction: column;align-items: center;background-color: white;padding-right: 0.2em;padding-left: 0.2em;position: relative;}#sk-container-id-1 div.sk-item {position: relative;z-index: 1;}#sk-container-id-1 div.sk-parallel {display: flex;align-items: stretch;justify-content: center;background-color: white;position: relative;}#sk-container-id-1 div.sk-item::before, #sk-container-id-1 div.sk-parallel-item::before {content: \"\";position: absolute;border-left: 1px solid gray;box-sizing: border-box;top: 0;bottom: 0;left: 50%;z-index: -1;}#sk-container-id-1 div.sk-parallel-item {display: flex;flex-direction: column;z-index: 1;position: relative;background-color: white;}#sk-container-id-1 div.sk-parallel-item:first-child::after {align-self: flex-end;width: 50%;}#sk-container-id-1 div.sk-parallel-item:last-child::after {align-self: flex-start;width: 50%;}#sk-container-id-1 div.sk-parallel-item:only-child::after {width: 0;}#sk-container-id-1 div.sk-dashed-wrapped {border: 1px dashed gray;margin: 0 0.4em 0.5em 0.4em;box-sizing: border-box;padding-bottom: 0.4em;background-color: white;}#sk-container-id-1 div.sk-label label {font-family: monospace;font-weight: bold;display: inline-block;line-height: 1.2em;}#sk-container-id-1 div.sk-label-container {text-align: center;}#sk-container-id-1 div.sk-container {/* jupyter's `normalize.less` sets `[hidden] { display: none; }` but bootstrap.min.css set `[hidden] { display: none !important; }` so we also need the `!important` here to be able to override the default hidden behavior on the sphinx rendered scikit-learn.org. See: https://github.com/scikit-learn/scikit-learn/issues/21755 */display: inline-block !important;position: relative;}#sk-container-id-1 div.sk-text-repr-fallback {display: none;}</style><div id=\"sk-container-id-1\" class=\"sk-top-container\"><div class=\"sk-text-repr-fallback\"><pre>LogisticRegression()</pre><b>In a Jupyter environment, please rerun this cell to show the HTML representation or trust the notebook. <br />On GitHub, the HTML representation is unable to render, please try loading this page with nbviewer.org.</b></div><div class=\"sk-container\" hidden><div class=\"sk-item\"><div class=\"sk-estimator sk-toggleable\"><input class=\"sk-toggleable__control sk-hidden--visually\" id=\"sk-estimator-id-1\" type=\"checkbox\" checked><label for=\"sk-estimator-id-1\" class=\"sk-toggleable__label sk-toggleable__label-arrow\">LogisticRegression</label><div class=\"sk-toggleable__content\"><pre>LogisticRegression()</pre></div></div></div></div></div>"
            ],
            "text/plain": [
              "LogisticRegression()"
            ]
          },
          "execution_count": 12,
          "metadata": {},
          "output_type": "execute_result"
        }
      ],
      "source": [
        "model = LogisticRegression()\n",
        "model.fit(X_train,y_train)"
      ]
    },
    {
      "cell_type": "code",
      "execution_count": 13,
      "metadata": {
        "colab": {
          "base_uri": "https://localhost:8080/"
        },
        "id": "MGIkRB2OA4qC",
        "outputId": "6256b41e-7c50-4b28-c8e0-b828c169b187"
      },
      "outputs": [
        {
          "name": "stdout",
          "output_type": "stream",
          "text": [
            "              precision    recall  f1-score   support\n",
            "\n",
            "           0       0.65      0.24      0.35       116\n",
            "           1       0.74      0.95      0.83       579\n",
            "           2       0.74      0.31      0.44       137\n",
            "           3       0.79      0.71      0.75       195\n",
            "\n",
            "    accuracy                           0.74      1027\n",
            "   macro avg       0.73      0.56      0.59      1027\n",
            "weighted avg       0.74      0.74      0.71      1027\n",
            "\n"
          ]
        }
      ],
      "source": [
        "y_pred = model.predict(X_test)\n",
        "y_true = np.array(y_test)\n",
        "print(classification_report(y_true, y_pred))"
      ]
    },
    {
      "cell_type": "markdown",
      "metadata": {
        "id": "VEUvxuwMA4qC"
      },
      "source": [
        "# Random Forest Classifier"
      ]
    },
    {
      "cell_type": "code",
      "execution_count": 14,
      "metadata": {
        "id": "3zanFuCYA4qC"
      },
      "outputs": [],
      "source": [
        "from sklearn.ensemble import RandomForestClassifier\n",
        "\n",
        "clf = RandomForestClassifier() \n",
        "clf.fit(X_train, y_train)\n",
        "y_pred_rf_not_tuning = clf.predict(X_test)"
      ]
    },
    {
      "cell_type": "code",
      "execution_count": 15,
      "metadata": {
        "colab": {
          "base_uri": "https://localhost:8080/"
        },
        "id": "osDfK1czA4qC",
        "outputId": "1d639d32-182e-4f16-db10-c8252a750f83"
      },
      "outputs": [
        {
          "name": "stdout",
          "output_type": "stream",
          "text": [
            "              precision    recall  f1-score   support\n",
            "\n",
            "           0       0.63      0.41      0.49       116\n",
            "           1       0.77      0.90      0.83       579\n",
            "           2       0.59      0.40      0.48       137\n",
            "           3       0.75      0.73      0.74       195\n",
            "\n",
            "    accuracy                           0.74      1027\n",
            "   macro avg       0.69      0.61      0.64      1027\n",
            "weighted avg       0.73      0.74      0.73      1027\n",
            "\n"
          ]
        }
      ],
      "source": [
        "print(classification_report(y_test, y_pred_rf_not_tuning))"
      ]
    },
    {
      "cell_type": "markdown",
      "metadata": {
        "id": "qCAqXSt7A4qD"
      },
      "source": [
        "# SGD Classifier\n",
        "some user think that SGD is a classifier. But no, that's a linear classifier optimized by the SGD.\n",
        "---\n",
        "\n"
      ]
    },
    {
      "cell_type": "code",
      "execution_count": 16,
      "metadata": {
        "id": "13PXGzCaA4qD"
      },
      "outputs": [],
      "source": [
        "from sklearn.linear_model import SGDClassifier"
      ]
    },
    {
      "cell_type": "code",
      "execution_count": 17,
      "metadata": {
        "colab": {
          "base_uri": "https://localhost:8080/"
        },
        "id": "-N42FwZpA4qD",
        "outputId": "75f4c6e3-f43a-4c07-87e6-c013a29de131"
      },
      "outputs": [
        {
          "name": "stdout",
          "output_type": "stream",
          "text": [
            "              precision    recall  f1-score   support\n",
            "\n",
            "           0       0.51      0.32      0.39       116\n",
            "           1       0.77      0.88      0.82       579\n",
            "           2       0.53      0.43      0.48       137\n",
            "           3       0.74      0.70      0.72       195\n",
            "\n",
            "    accuracy                           0.72      1027\n",
            "   macro avg       0.64      0.58      0.60      1027\n",
            "weighted avg       0.70      0.72      0.71      1027\n",
            "\n"
          ]
        }
      ],
      "source": [
        "SGDclf = SGDClassifier(loss='hinge',penalty='l2') # Linear SVM from TUNING PARAM\n",
        "SGDclf.fit(X_train,y_train)\n",
        "\n",
        "SGDclf_pred = SGDclf.predict(X_test)\n",
        "print(classification_report(y_true, SGDclf_pred))"
      ]
    },
    {
      "cell_type": "markdown",
      "metadata": {
        "id": "XDkcw2L0q0Tg"
      },
      "source": [
        "# NAIVE BAYES"
      ]
    },
    {
      "cell_type": "code",
      "execution_count": 18,
      "metadata": {
        "colab": {
          "base_uri": "https://localhost:8080/"
        },
        "id": "YFmFdNCJnz3R",
        "outputId": "274ce690-2274-46d0-fe47-3b7d0758e182"
      },
      "outputs": [
        {
          "name": "stdout",
          "output_type": "stream",
          "text": [
            "              precision    recall  f1-score   support\n",
            "\n",
            "           0       1.00      0.01      0.02       116\n",
            "           1       0.68      1.00      0.81       579\n",
            "           2       0.92      0.26      0.40       137\n",
            "           3       0.86      0.62      0.72       195\n",
            "\n",
            "    accuracy                           0.71      1027\n",
            "   macro avg       0.87      0.47      0.49      1027\n",
            "weighted avg       0.78      0.71      0.65      1027\n",
            "\n"
          ]
        }
      ],
      "source": [
        "from sklearn.naive_bayes import MultinomialNB\n",
        "Naive_clf = MultinomialNB()\n",
        "Naive_clf.fit(X_train, y_train)\n",
        "Naive_pred = Naive_clf.predict(X_test)\n",
        "print(classification_report(y_true, Naive_pred))"
      ]
    },
    {
      "attachments": {},
      "cell_type": "markdown",
      "metadata": {},
      "source": [
        "# Logistic Regression Hypertuning Paramters"
      ]
    },
    {
      "cell_type": "code",
      "execution_count": 19,
      "metadata": {},
      "outputs": [],
      "source": [
        "from sklearn.model_selection import GridSearchCV"
      ]
    },
    {
      "cell_type": "code",
      "execution_count": 20,
      "metadata": {},
      "outputs": [],
      "source": [
        "param_grid = {\n",
        "    'penalty': ['l1', 'l2', 'elasticnet'],\n",
        "    'C': np.logspace(-4, 4, 20),\n",
        "    'solver': ['newton-cg', 'lbfgs', 'liblinear', 'sag', 'saga']\n",
        "}\n",
        "\n",
        "logistic_regression = LogisticRegression(max_iter=10000)\n",
        "\n",
        "# Use GridSearchCV to perform hyperparameter tuning\n",
        "grid_search = GridSearchCV(logistic_regression, param_grid, cv=5)\n",
        "grid_search.fit(X_train, y_train)\n",
        "\n",
        "# Print the best hyperparameters found during the search\n",
        "print(\"Best hyperparameters: \", grid_search.best_params_)"
      ]
    },
    {
      "attachments": {},
      "cell_type": "markdown",
      "metadata": {},
      "source": [
        "# Random Forest Classifier Hypertuning Parameters"
      ]
    },
    {
      "cell_type": "code",
      "execution_count": null,
      "metadata": {},
      "outputs": [],
      "source": [
        "param_grid = {\n",
        "    'n_estimators': [10, 50, 100, 500],\n",
        "    'max_depth': [None, 5, 10, 20],\n",
        "    'min_samples_split': [2, 5, 10],\n",
        "    'min_samples_leaf': [1, 2, 4]\n",
        "}\n",
        "\n",
        "# Initialize the random forest classifier\n",
        "random_forest = RandomForestClassifier()\n",
        "\n",
        "# Use GridSearchCV to perform hyperparameter tuning\n",
        "grid_search = GridSearchCV(random_forest, param_grid, cv=5)\n",
        "grid_search.fit(X_train, y_train)\n",
        "\n",
        "# Print the best hyperparameters found during the search\n",
        "print(\"Best hyperparameters: \", grid_search.best_params_)"
      ]
    },
    {
      "cell_type": "code",
      "execution_count": null,
      "metadata": {},
      "outputs": [],
      "source": []
    }
  ],
  "metadata": {
    "colab": {
      "provenance": []
    },
    "kernelspec": {
      "display_name": "mlp",
      "language": "python",
      "name": "python3"
    },
    "language_info": {
      "codemirror_mode": {
        "name": "ipython",
        "version": 3
      },
      "file_extension": ".py",
      "mimetype": "text/x-python",
      "name": "python",
      "nbconvert_exporter": "python",
      "pygments_lexer": "ipython3",
      "version": "3.9.10"
    },
    "orig_nbformat": 4,
    "vscode": {
      "interpreter": {
        "hash": "312e11345a26bb658cc76d44d3920b107a1290315a78b9f69927adb21ad3c257"
      }
    }
  },
  "nbformat": 4,
  "nbformat_minor": 0
}
