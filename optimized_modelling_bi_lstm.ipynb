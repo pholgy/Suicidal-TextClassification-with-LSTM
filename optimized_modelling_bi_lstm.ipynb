{
 "cells": [
  {
   "cell_type": "code",
   "execution_count": 73,
   "metadata": {},
   "outputs": [],
   "source": [
    "import pandas as pd\n",
    "from sklearn.model_selection import train_test_split\n",
    "from tensorflow.keras.preprocessing.text import Tokenizer\n",
    "from tensorflow.keras.preprocessing.sequence import pad_sequences\n",
    "from keras import callbacks\n",
    "from keras.models import Sequential\n",
    "from keras.layers import Embedding,LSTM,Dense,Dropout\n",
    "import matplotlib.pyplot as plt\n",
    "from sklearn import metrics\n",
    "from keras.callbacks import EarlyStopping\n",
    "from sklearn.metrics import classification_report\n",
    "import numpy as np\n",
    "\n",
    "import keras\n",
    "from keras import *\n",
    "from keras.layers import *\n",
    "from pythainlp import word_tokenize\n",
    "from pythainlp.word_vector import *\n",
    "\n",
    "from sklearn.metrics import f1_score\n",
    "from sklearn.preprocessing import LabelEncoder\n",
    "\n",
    "import warnings\n",
    "warnings.filterwarnings('ignore')"
   ]
  },
  {
   "cell_type": "code",
   "execution_count": 74,
   "metadata": {},
   "outputs": [],
   "source": [
    "df = pd.read_csv('main_suicidal_data.csv').drop(columns='Unnamed: 0')"
   ]
  },
  {
   "cell_type": "code",
   "execution_count": 75,
   "metadata": {},
   "outputs": [
    {
     "data": {
      "text/html": [
       "<div>\n",
       "<style scoped>\n",
       "    .dataframe tbody tr th:only-of-type {\n",
       "        vertical-align: middle;\n",
       "    }\n",
       "\n",
       "    .dataframe tbody tr th {\n",
       "        vertical-align: top;\n",
       "    }\n",
       "\n",
       "    .dataframe thead th {\n",
       "        text-align: right;\n",
       "    }\n",
       "</style>\n",
       "<table border=\"1\" class=\"dataframe\">\n",
       "  <thead>\n",
       "    <tr style=\"text-align: right;\">\n",
       "      <th></th>\n",
       "      <th>DateTime</th>\n",
       "      <th>Uid</th>\n",
       "      <th>Tweet</th>\n",
       "      <th>Label (Specialist)</th>\n",
       "      <th>HashTag</th>\n",
       "    </tr>\n",
       "  </thead>\n",
       "  <tbody>\n",
       "    <tr>\n",
       "      <th>0</th>\n",
       "      <td>18/5/2021 07:24</td>\n",
       "      <td>a38755f80aee</td>\n",
       "      <td>ถ้าฉันตายไปจริงๆก็คงดีสินะ</td>\n",
       "      <td>Level 2</td>\n",
       "      <td>#โรคซึมเศร้า</td>\n",
       "    </tr>\n",
       "    <tr>\n",
       "      <th>1</th>\n",
       "      <td>20/5/2021 16:06</td>\n",
       "      <td>a38755f80aee</td>\n",
       "      <td>เหนื่อยเหนื่อยจนจะตายอยู่แล้วมันไมกันนะนั่งเล่...</td>\n",
       "      <td>Level 1</td>\n",
       "      <td>#โรคซึมเศร้า</td>\n",
       "    </tr>\n",
       "    <tr>\n",
       "      <th>2</th>\n",
       "      <td>16/6/2021 07:00</td>\n",
       "      <td>9b7d113b270a</td>\n",
       "      <td>พยายามที่จะมีชีวิตอยู่แต่ก็เหนื่อยกับโลกนี้เหล...</td>\n",
       "      <td>Level 1</td>\n",
       "      <td>#โรคซึมเศร้า</td>\n",
       "    </tr>\n",
       "    <tr>\n",
       "      <th>3</th>\n",
       "      <td>28/5/2021 18:43</td>\n",
       "      <td>0b981040c16d</td>\n",
       "      <td>ชีวิตก็มีอยู่แค่นี้อยากหายไปแล้วนะ</td>\n",
       "      <td>Level 1</td>\n",
       "      <td>#โรคซึมเศร้า</td>\n",
       "    </tr>\n",
       "    <tr>\n",
       "      <th>4</th>\n",
       "      <td>13/7/2021 18:06</td>\n",
       "      <td>937c5794646d</td>\n",
       "      <td>วันวุ่นๆของวัยรุ่นกินยาเกินขนาดกรีดแขนพร้อม</td>\n",
       "      <td>Level 5</td>\n",
       "      <td>#โรคซึมเศร้า</td>\n",
       "    </tr>\n",
       "    <tr>\n",
       "      <th>...</th>\n",
       "      <td>...</td>\n",
       "      <td>...</td>\n",
       "      <td>...</td>\n",
       "      <td>...</td>\n",
       "      <td>...</td>\n",
       "    </tr>\n",
       "    <tr>\n",
       "      <th>5130</th>\n",
       "      <td>4/9/2021 13:13</td>\n",
       "      <td>4ba0977eb64b</td>\n",
       "      <td>ไม่มีใครเห็นด้วยกับฉันเลย</td>\n",
       "      <td>Other</td>\n",
       "      <td>#อยากตาย</td>\n",
       "    </tr>\n",
       "    <tr>\n",
       "      <th>5131</th>\n",
       "      <td>1/11/2021 06:10</td>\n",
       "      <td>4d031c2a41dc</td>\n",
       "      <td>ฝันร้ายมันตามหลอกหลอนเราทุกคืนเลยสินะในฝันหายใ...</td>\n",
       "      <td>Other</td>\n",
       "      <td>#โรคซึมเศร้า</td>\n",
       "    </tr>\n",
       "    <tr>\n",
       "      <th>5132</th>\n",
       "      <td>30/10/2021 15:20</td>\n",
       "      <td>73e054ef4f9c</td>\n",
       "      <td>สังคมนี้มันน่ากลัวอย่าไปบอกใครว่าเป็นซึมเศร้าน...</td>\n",
       "      <td>Other</td>\n",
       "      <td>#โรคซึมเศร้า</td>\n",
       "    </tr>\n",
       "    <tr>\n",
       "      <th>5133</th>\n",
       "      <td>28/6/2021 16:12</td>\n",
       "      <td>ab46d3d63465</td>\n",
       "      <td>ลืมเราไปให้หมดทุกคนเลยเราก็ไม่อยากให้ใครจดจำเรา</td>\n",
       "      <td>Other</td>\n",
       "      <td>#อยากตาย #เหนื่อย #ท้อ #ซึมเศร้า</td>\n",
       "    </tr>\n",
       "    <tr>\n",
       "      <th>5134</th>\n",
       "      <td>16/7/2021 03:12</td>\n",
       "      <td>d7fefa087a34</td>\n",
       "      <td>อะไรกันเนี่ยโดนไล่ไปตายอีกแล้ว</td>\n",
       "      <td>Other</td>\n",
       "      <td>#โรคซึมเศร้า</td>\n",
       "    </tr>\n",
       "  </tbody>\n",
       "</table>\n",
       "<p>5135 rows × 5 columns</p>\n",
       "</div>"
      ],
      "text/plain": [
       "              DateTime           Uid  \\\n",
       "0      18/5/2021 07:24  a38755f80aee   \n",
       "1      20/5/2021 16:06  a38755f80aee   \n",
       "2      16/6/2021 07:00  9b7d113b270a   \n",
       "3      28/5/2021 18:43  0b981040c16d   \n",
       "4      13/7/2021 18:06  937c5794646d   \n",
       "...                ...           ...   \n",
       "5130    4/9/2021 13:13  4ba0977eb64b   \n",
       "5131   1/11/2021 06:10  4d031c2a41dc   \n",
       "5132  30/10/2021 15:20  73e054ef4f9c   \n",
       "5133   28/6/2021 16:12  ab46d3d63465   \n",
       "5134   16/7/2021 03:12  d7fefa087a34   \n",
       "\n",
       "                                                  Tweet Label (Specialist)  \\\n",
       "0                            ถ้าฉันตายไปจริงๆก็คงดีสินะ            Level 2   \n",
       "1     เหนื่อยเหนื่อยจนจะตายอยู่แล้วมันไมกันนะนั่งเล่...            Level 1   \n",
       "2     พยายามที่จะมีชีวิตอยู่แต่ก็เหนื่อยกับโลกนี้เหล...            Level 1   \n",
       "3                    ชีวิตก็มีอยู่แค่นี้อยากหายไปแล้วนะ            Level 1   \n",
       "4           วันวุ่นๆของวัยรุ่นกินยาเกินขนาดกรีดแขนพร้อม            Level 5   \n",
       "...                                                 ...                ...   \n",
       "5130                          ไม่มีใครเห็นด้วยกับฉันเลย              Other   \n",
       "5131  ฝันร้ายมันตามหลอกหลอนเราทุกคืนเลยสินะในฝันหายใ...              Other   \n",
       "5132  สังคมนี้มันน่ากลัวอย่าไปบอกใครว่าเป็นซึมเศร้าน...              Other   \n",
       "5133    ลืมเราไปให้หมดทุกคนเลยเราก็ไม่อยากให้ใครจดจำเรา              Other   \n",
       "5134                     อะไรกันเนี่ยโดนไล่ไปตายอีกแล้ว              Other   \n",
       "\n",
       "                               HashTag  \n",
       "0                         #โรคซึมเศร้า  \n",
       "1                         #โรคซึมเศร้า  \n",
       "2                         #โรคซึมเศร้า  \n",
       "3                         #โรคซึมเศร้า  \n",
       "4                         #โรคซึมเศร้า  \n",
       "...                                ...  \n",
       "5130                          #อยากตาย  \n",
       "5131                      #โรคซึมเศร้า  \n",
       "5132                      #โรคซึมเศร้า  \n",
       "5133  #อยากตาย #เหนื่อย #ท้อ #ซึมเศร้า  \n",
       "5134                      #โรคซึมเศร้า  \n",
       "\n",
       "[5135 rows x 5 columns]"
      ]
     },
     "execution_count": 75,
     "metadata": {},
     "output_type": "execute_result"
    }
   ],
   "source": [
    "df"
   ]
  },
  {
   "cell_type": "code",
   "execution_count": 76,
   "metadata": {},
   "outputs": [],
   "source": [
    "wModel = get_model()\n",
    "thai2dict = {}\n",
    "for word in wModel.index_to_key:\n",
    "    thai2dict[word] = wModel[word]\n",
    "thai2vec = pd.DataFrame.from_dict(thai2dict,orient='index')\n",
    "thVocab = thai2vec.index.to_list()"
   ]
  },
  {
   "cell_type": "code",
   "execution_count": 77,
   "metadata": {},
   "outputs": [
    {
     "name": "stdout",
     "output_type": "stream",
     "text": [
      "51300\n",
      " (51358, 300)\n"
     ]
    }
   ],
   "source": [
    "ll = len(thai2vec)\n",
    "for vidx in range(ll):\n",
    "    if vidx % 100 == 0:\n",
    "        print('\\r' + str(vidx),end='')\n",
    "    aa = thai2vec.iloc[[vidx]]\n",
    "    ab = aa.values.tolist()\n",
    "    if vidx == 0:\n",
    "        vect = ab\n",
    "    else:\n",
    "        vect = np.vstack((vect,ab))\n",
    "\n",
    "print(\"\\n\", vect.shape)"
   ]
  },
  {
   "cell_type": "code",
   "execution_count": 78,
   "metadata": {},
   "outputs": [],
   "source": [
    "def tokenWord(wordTarget):\n",
    "    wordToken = word_tokenize(wordTarget, engine='attacut')\n",
    "    return wordToken\n",
    "\n",
    "def convWord(cw):\n",
    "    cWord = cw\n",
    "    for ti in range(len(cWord)):\n",
    "        if cWord[ti] == ' ':\n",
    "            cWord[ti] = ''\n",
    "        elif cWord[ti] not in thVocab:\n",
    "            cWord[ti] = ''\n",
    "    return cWord\n",
    "\n",
    "def token2index(t2idx):\n",
    "    w2index = []\n",
    "    for wi in range(len(t2idx)):\n",
    "        if t2idx[wi] in thVocab:\n",
    "            w2index.append(thVocab.index(t2idx[wi]))\n",
    "    return np.array(w2index)\n",
    "\n",
    "def findMaxArray(fma):\n",
    "    maxlen = 0\n",
    "    for mi in range(len(fma)):\n",
    "        nA = len(fma[mi])\n",
    "        if nA > maxlen:\n",
    "            maxlen = nA\n",
    "    return maxlen\n",
    "\n",
    "def fill0in(f0i):\n",
    "    fMax = findMaxArray(f0i)\n",
    "    for fi, ax in enumerate(f0i):\n",
    "        if len(ax) < fMax:\n",
    "            f0i[fi] = np.hstack((ax , np.zeros(fMax-len(ax))))\n",
    "        f0i1 = np.array(f0i)\n",
    "    return f0i1\n",
    "\n",
    "def prepare2train(ipt):\n",
    "    pre2t = []\n",
    "    for pidx in range(len(ipt)):\n",
    "        wp1 = ipt[pidx]\n",
    "        pre2t.append(token2index(convWord(tokenWord(wp1))))\n",
    "    return pre2t"
   ]
  },
  {
   "cell_type": "code",
   "execution_count": 79,
   "metadata": {},
   "outputs": [],
   "source": [
    "X = df['Tweet']\n",
    "X_arr = X.to_list()\n",
    "y = df['Label (Specialist)']"
   ]
  },
  {
   "cell_type": "code",
   "execution_count": 80,
   "metadata": {},
   "outputs": [
    {
     "data": {
      "text/html": [
       "<style>#sk-container-id-3 {color: black;background-color: white;}#sk-container-id-3 pre{padding: 0;}#sk-container-id-3 div.sk-toggleable {background-color: white;}#sk-container-id-3 label.sk-toggleable__label {cursor: pointer;display: block;width: 100%;margin-bottom: 0;padding: 0.3em;box-sizing: border-box;text-align: center;}#sk-container-id-3 label.sk-toggleable__label-arrow:before {content: \"▸\";float: left;margin-right: 0.25em;color: #696969;}#sk-container-id-3 label.sk-toggleable__label-arrow:hover:before {color: black;}#sk-container-id-3 div.sk-estimator:hover label.sk-toggleable__label-arrow:before {color: black;}#sk-container-id-3 div.sk-toggleable__content {max-height: 0;max-width: 0;overflow: hidden;text-align: left;background-color: #f0f8ff;}#sk-container-id-3 div.sk-toggleable__content pre {margin: 0.2em;color: black;border-radius: 0.25em;background-color: #f0f8ff;}#sk-container-id-3 input.sk-toggleable__control:checked~div.sk-toggleable__content {max-height: 200px;max-width: 100%;overflow: auto;}#sk-container-id-3 input.sk-toggleable__control:checked~label.sk-toggleable__label-arrow:before {content: \"▾\";}#sk-container-id-3 div.sk-estimator input.sk-toggleable__control:checked~label.sk-toggleable__label {background-color: #d4ebff;}#sk-container-id-3 div.sk-label input.sk-toggleable__control:checked~label.sk-toggleable__label {background-color: #d4ebff;}#sk-container-id-3 input.sk-hidden--visually {border: 0;clip: rect(1px 1px 1px 1px);clip: rect(1px, 1px, 1px, 1px);height: 1px;margin: -1px;overflow: hidden;padding: 0;position: absolute;width: 1px;}#sk-container-id-3 div.sk-estimator {font-family: monospace;background-color: #f0f8ff;border: 1px dotted black;border-radius: 0.25em;box-sizing: border-box;margin-bottom: 0.5em;}#sk-container-id-3 div.sk-estimator:hover {background-color: #d4ebff;}#sk-container-id-3 div.sk-parallel-item::after {content: \"\";width: 100%;border-bottom: 1px solid gray;flex-grow: 1;}#sk-container-id-3 div.sk-label:hover label.sk-toggleable__label {background-color: #d4ebff;}#sk-container-id-3 div.sk-serial::before {content: \"\";position: absolute;border-left: 1px solid gray;box-sizing: border-box;top: 0;bottom: 0;left: 50%;z-index: 0;}#sk-container-id-3 div.sk-serial {display: flex;flex-direction: column;align-items: center;background-color: white;padding-right: 0.2em;padding-left: 0.2em;position: relative;}#sk-container-id-3 div.sk-item {position: relative;z-index: 1;}#sk-container-id-3 div.sk-parallel {display: flex;align-items: stretch;justify-content: center;background-color: white;position: relative;}#sk-container-id-3 div.sk-item::before, #sk-container-id-3 div.sk-parallel-item::before {content: \"\";position: absolute;border-left: 1px solid gray;box-sizing: border-box;top: 0;bottom: 0;left: 50%;z-index: -1;}#sk-container-id-3 div.sk-parallel-item {display: flex;flex-direction: column;z-index: 1;position: relative;background-color: white;}#sk-container-id-3 div.sk-parallel-item:first-child::after {align-self: flex-end;width: 50%;}#sk-container-id-3 div.sk-parallel-item:last-child::after {align-self: flex-start;width: 50%;}#sk-container-id-3 div.sk-parallel-item:only-child::after {width: 0;}#sk-container-id-3 div.sk-dashed-wrapped {border: 1px dashed gray;margin: 0 0.4em 0.5em 0.4em;box-sizing: border-box;padding-bottom: 0.4em;background-color: white;}#sk-container-id-3 div.sk-label label {font-family: monospace;font-weight: bold;display: inline-block;line-height: 1.2em;}#sk-container-id-3 div.sk-label-container {text-align: center;}#sk-container-id-3 div.sk-container {/* jupyter's `normalize.less` sets `[hidden] { display: none; }` but bootstrap.min.css set `[hidden] { display: none !important; }` so we also need the `!important` here to be able to override the default hidden behavior on the sphinx rendered scikit-learn.org. See: https://github.com/scikit-learn/scikit-learn/issues/21755 */display: inline-block !important;position: relative;}#sk-container-id-3 div.sk-text-repr-fallback {display: none;}</style><div id=\"sk-container-id-3\" class=\"sk-top-container\"><div class=\"sk-text-repr-fallback\"><pre>LabelEncoder()</pre><b>In a Jupyter environment, please rerun this cell to show the HTML representation or trust the notebook. <br />On GitHub, the HTML representation is unable to render, please try loading this page with nbviewer.org.</b></div><div class=\"sk-container\" hidden><div class=\"sk-item\"><div class=\"sk-estimator sk-toggleable\"><input class=\"sk-toggleable__control sk-hidden--visually\" id=\"sk-estimator-id-3\" type=\"checkbox\" checked><label for=\"sk-estimator-id-3\" class=\"sk-toggleable__label sk-toggleable__label-arrow\">LabelEncoder</label><div class=\"sk-toggleable__content\"><pre>LabelEncoder()</pre></div></div></div></div></div>"
      ],
      "text/plain": [
       "LabelEncoder()"
      ]
     },
     "execution_count": 80,
     "metadata": {},
     "output_type": "execute_result"
    }
   ],
   "source": [
    "le = LabelEncoder()\n",
    "le.fit(y)"
   ]
  },
  {
   "cell_type": "code",
   "execution_count": 81,
   "metadata": {},
   "outputs": [],
   "source": [
    "X = prepare2train(X_arr)\n",
    "y = le.transform(y)"
   ]
  },
  {
   "cell_type": "code",
   "execution_count": 82,
   "metadata": {},
   "outputs": [],
   "source": [
    "y = np.array(y)\n",
    "X = fill0in(X)"
   ]
  },
  {
   "cell_type": "code",
   "execution_count": 83,
   "metadata": {},
   "outputs": [],
   "source": [
    "X_train, X_test, y_train, y_test = train_test_split(X, y, test_size=0.1)"
   ]
  },
  {
   "cell_type": "markdown",
   "metadata": {},
   "source": [
    "# LSTM"
   ]
  },
  {
   "cell_type": "code",
   "execution_count": 84,
   "metadata": {},
   "outputs": [
    {
     "name": "stdout",
     "output_type": "stream",
     "text": [
      "Model: \"sequential_6\"\n",
      "_________________________________________________________________\n",
      " Layer (type)                Output Shape              Param #   \n",
      "=================================================================\n",
      " embed (Embedding)           (None, None, 300)         15407400  \n",
      "                                                                 \n",
      " bidirectional_6 (Bidirectio  (None, None, 128)        186880    \n",
      " nal)                                                            \n",
      "                                                                 \n",
      " dropout_6 (Dropout)         (None, None, 128)         0         \n",
      "                                                                 \n",
      " bidirectional_7 (Bidirectio  (None, 64)               41216     \n",
      " nal)                                                            \n",
      "                                                                 \n",
      " dropout_7 (Dropout)         (None, 64)                0         \n",
      "                                                                 \n",
      " dense_6 (Dense)             (None, 24)                1560      \n",
      "                                                                 \n",
      " dropout_8 (Dropout)         (None, 24)                0         \n",
      "                                                                 \n",
      " dense_7 (Dense)             (None, 6)                 150       \n",
      "                                                                 \n",
      "=================================================================\n",
      "Total params: 15,637,206\n",
      "Trainable params: 15,637,206\n",
      "Non-trainable params: 0\n",
      "_________________________________________________________________\n"
     ]
    }
   ],
   "source": [
    "model = keras.Sequential()\n",
    "model.add(keras.layers.Embedding(vect.shape[0],vect.shape[1],name='embed'))\n",
    "\n",
    "#Layer 2: LSTM layer\n",
    "model.add(Bidirectional(LSTM(64, return_sequences = True)))\n",
    "model.add(Dropout(0.3))\n",
    "\n",
    "#Layer 3: LSTM layer\n",
    "model.add(Bidirectional(LSTM(32)))\n",
    "model.add(Dropout(0.3))\n",
    "\n",
    "#Layer 4: Dense layer (Hidden layer)\n",
    "model.add(Dense(24, activation = 'relu'))\n",
    "model.add(Dropout(0.2))\n",
    "\n",
    "#Layer 5: Output layer\n",
    "model.add(Dense(6, activation = 'softmax'))\n",
    "model.summary()"
   ]
  },
  {
   "cell_type": "code",
   "execution_count": 85,
   "metadata": {},
   "outputs": [],
   "source": [
    "from tensorflow.keras.optimizers import SGD\n",
    "opt = SGD(lr=0.1)\n",
    "model.compile(loss='sparse_categorical_crossentropy',optimizer=opt,metrics=['accuracy'])"
   ]
  },
  {
   "cell_type": "code",
   "execution_count": 86,
   "metadata": {},
   "outputs": [],
   "source": [
    "model.get_layer('embed').set_weights([vect])\n",
    "model.get_layer('embed').trainable = True"
   ]
  },
  {
   "cell_type": "code",
   "execution_count": 87,
   "metadata": {},
   "outputs": [],
   "source": [
    "class myCallback(callbacks.Callback):\n",
    "  def on_epoch_end(self, epoch, logs={}):\n",
    "    if(logs.get('accuracy')>0.95):\n",
    "      self.model.stop_training = True\n",
    "      print(\"\\nCallback Accuracy มากกว่า 95%!\")\n",
    "callbacks = myCallback()"
   ]
  },
  {
   "cell_type": "code",
   "execution_count": 88,
   "metadata": {},
   "outputs": [
    {
     "name": "stdout",
     "output_type": "stream",
     "text": [
      "Epoch 1/30\n"
     ]
    },
    {
     "name": "stderr",
     "output_type": "stream",
     "text": [
      "2022-12-29 15:42:16.278036: I tensorflow/core/grappler/optimizers/custom_graph_optimizer_registry.cc:112] Plugin optimizer for device_type GPU is enabled.\n",
      "2022-12-29 15:42:16.993349: I tensorflow/core/grappler/optimizers/custom_graph_optimizer_registry.cc:112] Plugin optimizer for device_type GPU is enabled.\n",
      "2022-12-29 15:42:17.010457: I tensorflow/core/grappler/optimizers/custom_graph_optimizer_registry.cc:112] Plugin optimizer for device_type GPU is enabled.\n",
      "2022-12-29 15:42:17.341137: I tensorflow/core/grappler/optimizers/custom_graph_optimizer_registry.cc:112] Plugin optimizer for device_type GPU is enabled.\n",
      "2022-12-29 15:42:17.357591: I tensorflow/core/grappler/optimizers/custom_graph_optimizer_registry.cc:112] Plugin optimizer for device_type GPU is enabled.\n",
      "2022-12-29 15:42:17.800923: I tensorflow/core/grappler/optimizers/custom_graph_optimizer_registry.cc:112] Plugin optimizer for device_type GPU is enabled.\n",
      "2022-12-29 15:42:17.827343: I tensorflow/core/grappler/optimizers/custom_graph_optimizer_registry.cc:112] Plugin optimizer for device_type GPU is enabled.\n",
      "2022-12-29 15:42:18.402612: I tensorflow/core/grappler/optimizers/custom_graph_optimizer_registry.cc:112] Plugin optimizer for device_type GPU is enabled.\n",
      "2022-12-29 15:42:18.429854: I tensorflow/core/grappler/optimizers/custom_graph_optimizer_registry.cc:112] Plugin optimizer for device_type GPU is enabled.\n"
     ]
    },
    {
     "name": "stdout",
     "output_type": "stream",
     "text": [
      "289/289 [==============================] - 45s 138ms/step - loss: 1.3839 - accuracy: 0.5419\n",
      "Epoch 2/30\n",
      "289/289 [==============================] - 38s 133ms/step - loss: 1.2711 - accuracy: 0.5622\n",
      "Epoch 3/30\n",
      "289/289 [==============================] - 38s 131ms/step - loss: 1.1911 - accuracy: 0.5797\n",
      "Epoch 4/30\n",
      "289/289 [==============================] - 38s 133ms/step - loss: 1.1147 - accuracy: 0.6109\n",
      "Epoch 5/30\n",
      "289/289 [==============================] - 37s 129ms/step - loss: 1.0602 - accuracy: 0.6282\n",
      "Epoch 6/30\n",
      "289/289 [==============================] - 37s 129ms/step - loss: 1.0197 - accuracy: 0.6453\n",
      "Epoch 7/30\n",
      "289/289 [==============================] - 37s 128ms/step - loss: 0.9810 - accuracy: 0.6628\n",
      "Epoch 8/30\n",
      "289/289 [==============================] - 37s 128ms/step - loss: 0.9356 - accuracy: 0.6804\n",
      "Epoch 9/30\n",
      "289/289 [==============================] - 37s 128ms/step - loss: 0.9005 - accuracy: 0.6843\n",
      "Epoch 10/30\n",
      "289/289 [==============================] - 37s 129ms/step - loss: 0.8741 - accuracy: 0.7048\n",
      "Epoch 11/30\n",
      "289/289 [==============================] - 38s 130ms/step - loss: 0.8425 - accuracy: 0.7143\n",
      "Epoch 12/30\n",
      "289/289 [==============================] - 37s 129ms/step - loss: 0.8141 - accuracy: 0.7159\n",
      "Epoch 13/30\n",
      "289/289 [==============================] - 38s 133ms/step - loss: 0.7831 - accuracy: 0.7308\n",
      "Epoch 14/30\n",
      "289/289 [==============================] - 39s 133ms/step - loss: 0.7579 - accuracy: 0.7405\n",
      "Epoch 15/30\n",
      "289/289 [==============================] - 38s 131ms/step - loss: 0.7348 - accuracy: 0.7442\n",
      "Epoch 16/30\n",
      "289/289 [==============================] - 37s 130ms/step - loss: 0.7066 - accuracy: 0.7576\n",
      "Epoch 17/30\n",
      "289/289 [==============================] - 39s 134ms/step - loss: 0.6786 - accuracy: 0.7682\n",
      "Epoch 18/30\n",
      "289/289 [==============================] - 38s 132ms/step - loss: 0.6657 - accuracy: 0.7700\n",
      "Epoch 19/30\n",
      "289/289 [==============================] - 37s 129ms/step - loss: 0.6297 - accuracy: 0.7823\n",
      "Epoch 20/30\n",
      "289/289 [==============================] - 37s 129ms/step - loss: 0.5994 - accuracy: 0.7914\n",
      "Epoch 21/30\n",
      "289/289 [==============================] - 37s 128ms/step - loss: 0.5809 - accuracy: 0.7920\n",
      "Epoch 22/30\n",
      "289/289 [==============================] - 37s 129ms/step - loss: 0.5625 - accuracy: 0.7990\n",
      "Epoch 23/30\n",
      "289/289 [==============================] - 37s 129ms/step - loss: 0.5318 - accuracy: 0.8150\n",
      "Epoch 24/30\n",
      "289/289 [==============================] - 37s 128ms/step - loss: 0.5112 - accuracy: 0.8193\n",
      "Epoch 25/30\n",
      "289/289 [==============================] - 37s 128ms/step - loss: 0.4905 - accuracy: 0.8245\n",
      "Epoch 26/30\n",
      "289/289 [==============================] - 37s 129ms/step - loss: 0.4715 - accuracy: 0.8262\n",
      "Epoch 27/30\n",
      "289/289 [==============================] - 37s 128ms/step - loss: 0.4526 - accuracy: 0.8405\n",
      "Epoch 28/30\n",
      "289/289 [==============================] - 38s 131ms/step - loss: 0.4292 - accuracy: 0.8474\n",
      "Epoch 29/30\n",
      "289/289 [==============================] - 39s 136ms/step - loss: 0.4087 - accuracy: 0.8537\n",
      "Epoch 30/30\n",
      "289/289 [==============================] - 55s 189ms/step - loss: 0.4029 - accuracy: 0.8559\n"
     ]
    },
    {
     "data": {
      "text/plain": [
       "<keras.callbacks.History at 0x2b7a30610>"
      ]
     },
     "execution_count": 88,
     "metadata": {},
     "output_type": "execute_result"
    }
   ],
   "source": [
    "model.fit(X_train,y_train,epochs=30,batch_size=16,callbacks=[callbacks])"
   ]
  },
  {
   "cell_type": "code",
   "execution_count": 89,
   "metadata": {},
   "outputs": [
    {
     "name": "stderr",
     "output_type": "stream",
     "text": [
      "2022-12-29 16:01:28.031112: I tensorflow/core/grappler/optimizers/custom_graph_optimizer_registry.cc:112] Plugin optimizer for device_type GPU is enabled.\n",
      "2022-12-29 16:01:28.477525: I tensorflow/core/grappler/optimizers/custom_graph_optimizer_registry.cc:112] Plugin optimizer for device_type GPU is enabled.\n",
      "2022-12-29 16:01:28.499745: I tensorflow/core/grappler/optimizers/custom_graph_optimizer_registry.cc:112] Plugin optimizer for device_type GPU is enabled.\n",
      "2022-12-29 16:01:28.919543: I tensorflow/core/grappler/optimizers/custom_graph_optimizer_registry.cc:112] Plugin optimizer for device_type GPU is enabled.\n",
      "2022-12-29 16:01:28.932989: I tensorflow/core/grappler/optimizers/custom_graph_optimizer_registry.cc:112] Plugin optimizer for device_type GPU is enabled.\n"
     ]
    },
    {
     "name": "stdout",
     "output_type": "stream",
     "text": [
      "17/17 [==============================] - 5s 163ms/step - loss: 1.3485 - accuracy: 0.6809\n"
     ]
    }
   ],
   "source": [
    "model_acc = model.evaluate(X_test,y_test)"
   ]
  },
  {
   "cell_type": "code",
   "execution_count": 90,
   "metadata": {},
   "outputs": [
    {
     "name": "stderr",
     "output_type": "stream",
     "text": [
      "2022-12-29 16:01:32.709483: I tensorflow/core/grappler/optimizers/custom_graph_optimizer_registry.cc:112] Plugin optimizer for device_type GPU is enabled.\n",
      "2022-12-29 16:01:33.001654: I tensorflow/core/grappler/optimizers/custom_graph_optimizer_registry.cc:112] Plugin optimizer for device_type GPU is enabled.\n",
      "2022-12-29 16:01:33.018971: I tensorflow/core/grappler/optimizers/custom_graph_optimizer_registry.cc:112] Plugin optimizer for device_type GPU is enabled.\n",
      "2022-12-29 16:01:33.397346: I tensorflow/core/grappler/optimizers/custom_graph_optimizer_registry.cc:112] Plugin optimizer for device_type GPU is enabled.\n",
      "2022-12-29 16:01:33.410420: I tensorflow/core/grappler/optimizers/custom_graph_optimizer_registry.cc:112] Plugin optimizer for device_type GPU is enabled.\n"
     ]
    }
   ],
   "source": [
    "y_pred = np.argmax(model.predict(X_test),axis=1)"
   ]
  },
  {
   "cell_type": "code",
   "execution_count": 91,
   "metadata": {},
   "outputs": [
    {
     "name": "stdout",
     "output_type": "stream",
     "text": [
      "              precision    recall  f1-score   support\n",
      "\n",
      "           0       0.78      0.88      0.82       271\n",
      "           1       0.61      0.31      0.41        54\n",
      "           2       0.59      0.40      0.48        25\n",
      "           3       0.33      0.19      0.24        37\n",
      "           4       0.56      0.72      0.63        68\n",
      "           5       0.55      0.49      0.52        59\n",
      "\n",
      "    accuracy                           0.68       514\n",
      "   macro avg       0.57      0.50      0.52       514\n",
      "weighted avg       0.66      0.68      0.66       514\n",
      "\n"
     ]
    }
   ],
   "source": [
    "print(classification_report(y_test, y_pred))"
   ]
  },
  {
   "attachments": {},
   "cell_type": "markdown",
   "metadata": {},
   "source": [
    "# Try it with Random Forest"
   ]
  },
  {
   "cell_type": "code",
   "execution_count": 92,
   "metadata": {},
   "outputs": [],
   "source": [
    "from sklearn.ensemble import RandomForestClassifier\n",
    "\n",
    "clf = RandomForestClassifier() \n",
    "clf.fit(X_train, y_train)\n",
    "y_pred_rf_not_tuning = clf.predict(X_test)"
   ]
  },
  {
   "cell_type": "code",
   "execution_count": 93,
   "metadata": {},
   "outputs": [
    {
     "name": "stdout",
     "output_type": "stream",
     "text": [
      "              precision    recall  f1-score   support\n",
      "\n",
      "           0       0.59      0.94      0.73       271\n",
      "           1       0.44      0.13      0.20        54\n",
      "           2       0.56      0.20      0.29        25\n",
      "           3       0.36      0.11      0.17        37\n",
      "           4       0.75      0.31      0.44        68\n",
      "           5       0.79      0.25      0.38        59\n",
      "\n",
      "    accuracy                           0.60       514\n",
      "   macro avg       0.58      0.32      0.37       514\n",
      "weighted avg       0.60      0.60      0.53       514\n",
      "\n"
     ]
    }
   ],
   "source": [
    "print(classification_report(y_test, y_pred_rf_not_tuning))"
   ]
  },
  {
   "attachments": {},
   "cell_type": "markdown",
   "metadata": {},
   "source": [
    "# Tuning Param"
   ]
  },
  {
   "cell_type": "code",
   "execution_count": 94,
   "metadata": {},
   "outputs": [],
   "source": [
    "from sklearn.model_selection import RandomizedSearchCV\n",
    "\n",
    "n_estimators = [int(x) for x in range(200,2000,200)]\n",
    "max_features = ['auto', 'sqrt']\n",
    "max_depth = [int(x) for x in np.linspace(10, 110, num = 11)]\n",
    "max_depth.append(None)\n",
    "min_samples_split = [2, 5, 10]\n",
    "min_samples_leaf = [1, 2, 4]\n",
    "bootstrap = [True, False]\n",
    "\n",
    "random_grid = {'n_estimators': n_estimators,\n",
    "               'max_features': max_features,\n",
    "               'max_depth': max_depth,\n",
    "               'min_samples_split': min_samples_split,\n",
    "               'min_samples_leaf': min_samples_leaf,\n",
    "               'bootstrap': bootstrap}\n"
   ]
  },
  {
   "cell_type": "code",
   "execution_count": null,
   "metadata": {},
   "outputs": [],
   "source": [
    "rf = RandomForestClassifier()\n",
    "\n",
    "rf_random = RandomizedSearchCV(estimator = rf, param_distributions = random_grid, n_iter = 100, cv = 3, verbose=0, random_state=42, n_jobs = -1)\n",
    "rf_random.fit(X_train, y_train)"
   ]
  },
  {
   "cell_type": "code",
   "execution_count": null,
   "metadata": {},
   "outputs": [],
   "source": [
    "print(rf_random.best_estimator_)"
   ]
  },
  {
   "cell_type": "code",
   "execution_count": null,
   "metadata": {},
   "outputs": [],
   "source": [
    "rf_tuned = RandomForestClassifier(bootstrap=False, max_depth=30, max_features='auto',\n",
    "                       n_estimators=200)\n",
    "rf_tuned.fit(X_train, y_train)\n",
    "y_pred_rf_tuned = rf_tuned.predict(X_test)"
   ]
  },
  {
   "cell_type": "code",
   "execution_count": null,
   "metadata": {},
   "outputs": [],
   "source": [
    "print(classification_report(y_test, y_pred_rf_tuned))"
   ]
  }
 ],
 "metadata": {
  "kernelspec": {
   "display_name": "Python 3.9.10 ('mlp')",
   "language": "python",
   "name": "python3"
  },
  "language_info": {
   "codemirror_mode": {
    "name": "ipython",
    "version": 3
   },
   "file_extension": ".py",
   "mimetype": "text/x-python",
   "name": "python",
   "nbconvert_exporter": "python",
   "pygments_lexer": "ipython3",
   "version": "3.9.10"
  },
  "orig_nbformat": 4,
  "vscode": {
   "interpreter": {
    "hash": "312e11345a26bb658cc76d44d3920b107a1290315a78b9f69927adb21ad3c257"
   }
  }
 },
 "nbformat": 4,
 "nbformat_minor": 2
}
